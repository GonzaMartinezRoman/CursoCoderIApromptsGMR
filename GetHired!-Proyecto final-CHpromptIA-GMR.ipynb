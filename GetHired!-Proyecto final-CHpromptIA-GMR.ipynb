{
  "nbformat": 4,
  "nbformat_minor": 0,
  "metadata": {
    "colab": {
      "provenance": [],
      "authorship_tag": "ABX9TyO/8lzS1x1tyd2xE+6SFuiJ",
      "include_colab_link": true
    },
    "kernelspec": {
      "name": "python3",
      "display_name": "Python 3"
    },
    "language_info": {
      "name": "python"
    }
  },
  "cells": [
    {
      "cell_type": "markdown",
      "metadata": {
        "id": "view-in-github",
        "colab_type": "text"
      },
      "source": [
        "<a href=\"https://colab.research.google.com/github/GonzaMartinezRoman/CursoCoderIApromptsGMR/blob/main/GetHired!-Proyecto%20final-CHpromptIA-GMR.ipynb\" target=\"_parent\"><img src=\"https://colab.research.google.com/assets/colab-badge.svg\" alt=\"Open In Colab\"/></a>"
      ]
    },
    {
      "cell_type": "markdown",
      "source": [
        "# **Proyecto final: Get Hired!**\n",
        "*Aumenta tus posibilidades de ser seleccionado adaptando tu CV a los requisitos de la búsqueda.*\n"
      ],
      "metadata": {
        "id": "0Ny02sLbeNw2"
      }
    },
    {
      "cell_type": "markdown",
      "source": [
        "**Autor**: Gonzalo José Martinez Roman\n",
        "\n",
        "**Curso**: Inteligencia Artificial: Generación de prompts\n",
        "\n",
        "**Comisión** #: 67105"
      ],
      "metadata": {
        "id": "A6YUpTSKk_2b"
      }
    },
    {
      "cell_type": "markdown",
      "source": [
        "# Presentación del problema\n",
        "\n",
        "Este proyecto busca revolucionar la forma en que se crean y evalúan los currículums, mediante el desarrollo de una herramienta llamada **Get Hired!**. Esta herramienta utiliza los modelos de lenguaje avanzados **Gemini** y **DALL-E** para crear un **CVs** personalizado que se adapte a las necesidades específicas de una oferta de trabajo.\n",
        "\n",
        "**Get Hired!** analiza la oferta de empleo, identifica las habilidades y experiencias relevantes del candidato y las presenta de forma concisa y atractiva, incluyendo una imagen de marca personal generada por **IA**. De esta manera, los candidatos aumentan sus posibilidades de ser seleccionados, mientras que las empresas pueden optimizar su proceso de reclutamiento encontrando candidatos más adecuados a sus necesidades."
      ],
      "metadata": {
        "id": "0RWPAigJlfsW"
      }
    },
    {
      "cell_type": "markdown",
      "source": [
        "## Índice\n",
        "\n",
        "\n",
        "1. Introducción\n",
        "2. Objetivos\n",
        "3. Metodología\n",
        "4. Herramientas y Tecnologías\n",
        "5. Implementación\n",
        "6. Resultados"
      ],
      "metadata": {
        "id": "8Is1k4GrmhLB"
      }
    },
    {
      "cell_type": "markdown",
      "source": [
        "### 1. Introducción\n",
        "Un CV a medida de la búsqueda de empleo potencia las posibilidades de un candidato de ser considerado para el puesto deseado. Get hired! tiene la finalidad de facilitar la adaptación de su CV dinámicamente y con un menor esfuerzo y así responder rápidamente a distintos perfiles de búsqueda.   \n"
      ],
      "metadata": {
        "id": "tEq5qG4onM9v"
      }
    },
    {
      "cell_type": "markdown",
      "source": [
        "### 2. Objetivos\n",
        "- Crear una aplicación capaz de interactura con el Usuario solicitandole datos de entrada respecto a su experiencia y a la descripción del puesto al que quiere aplicar.\n",
        "- Lograr que la apliación interprete mediante **Gemini**  de **Google** los requisitos del puesto y aquellas características del postulante relacionadas con estos.\n",
        "- Entregar un reporte con las características del postulante afines al puesto para que las incluya estrategicamente en su CV.\n",
        "- Generar una imagen de marca personal mediante **DALL-E** de **OpenAi** que represente el perfil del postulante y que pueda inlcuìr en el CV para captar la atención de los reclutadores."
      ],
      "metadata": {
        "id": "CYpgty2Jwr8p"
      }
    },
    {
      "cell_type": "markdown",
      "source": [
        "### 3. Metodología\n",
        "1. El Usuario  carga su información en las siguientes secciones:\n",
        "- Formación académica.\n",
        "- Experiencia laboral.\n",
        "- Logros.\n",
        "- Habilidades.\n",
        "- Cursos.\n",
        "- Hobbies.\n",
        "2. El Usuario carga el texto de la búsqueda de empleo a la cual quiere adaptar su CV, tomado desde un portal de empleo u otra fuente en la que se haya publicado. **Get Hired!** analiza el texto de la publicación de empleo y:\n",
        "- Identifica las palabras clave y habilidades más importantes mencionadas en la descripción del puesto.\n",
        "- Identifica requisitos específicos en cuanto a formación.\n",
        "- Identifica logros o resultados específicos deseados en el postulante.\n",
        "\n",
        "A partir del resultado anterior Get Hired! busca y selecciona entre los datos del Usuario aquellos más relevantes para la búsqueda de empleo indicada en 2. entregando un reporte con los siguientes apartados:\n",
        "Análisis de la búsqueda.\n",
        "Sobre mí.\n",
        "Formación.\n",
        "Experiencia.\n",
        "Habilidades.\n",
        "Intereses personales.\n",
        "% de afinidad\n",
        "\n",
        "La descripción de cada apartado es la siguiente:\n",
        "**Análisis de la búsqueda:** Este apartado resume el nombre de la posición a la que refiere la búsqueda, lista las palabras clave, requisitos de formación y los logros requeridos para ese trabajo.\n",
        "Datos personales y de contacto: Este apartado es siempre el mismo independientemente de la búsqueda de empleo ya que son los datos mínimos para identificar y contactar al postulante.\n",
        "\n",
        "**Sobre mi**: Este apartado está compuesto de un párrafo corto donde se destacan los conocimientos y experiencia del postulante más relevantes para el puesto, haciendo un énfasis especial en los logros relacionados con la posición. Este párrafo es esencial y tiene el objetivo de llamar la atención del equipo de selección. (incluir ejemplos en el prompt final como modelo)\n",
        "\n",
        "**Formación:** Este apartado lista en forma ordenada los titulos académicos del postulante relacionados con la búsqueda. Excluye aquellos que no agregan valor para la postulación.\n",
        "\n",
        "**Experiencia:** Este apartado lista en forma ordenada las experiencias en empleos anteriores del postulante relacionadas con la búsqueda. Excluye aquellas que no agregan valor para la postulación.\n",
        "Habilidades: Este apartado recopila habilidades adquiridas por el postulante relacionadas con la búsqueda. Excluye las aquellas que no agregan valor para la postulación.\n",
        "\n",
        "**Intereses personales:** Este apartado retrata en forma más personal al postulante listando gustos y hobbies que destaquen su personalidad fuera del ámbito laboral.\n",
        "\n",
        "**% de afinidad:** En este apartado se evalua la propuesta de CV optimizado para la búsqueda contra el análisis inicial asignando un puntaje de 0 a 100% en función de la finidad del candidato con las palabras clave, formaciòn y logros especìficos requeridos de la posición a cubrir.\n",
        "\n",
        "3. **Get Hired!** crea una imagen de marca personal basada en el resultado anterior para que el CV del postulante destaque frente a los reclutadores.\n",
        "\n",
        "4. El Usuario utiliza el reporte y la imagen de marca personal generados por **Get Hired!** para crear un CV utilizando una plantilla de Canva, Google Docs u otra aplicación que sea de su conveniencia y se postula cargando el CV **a medida** para la posición… y a prepararse para esa entrevista!"
      ],
      "metadata": {
        "id": "u9P982Hyzgm3"
      }
    },
    {
      "cell_type": "markdown",
      "source": [
        "### 4. Herramientas y Tecnologías\n",
        "1. Google Colab + Python + GitHub\n",
        "2. Python\n",
        "3. gemini-1.5-flash (texto-texto)\n",
        "4. DALL-E (texto-imagen)"
      ],
      "metadata": {
        "id": "G_pmSNGp0Ib4"
      }
    },
    {
      "cell_type": "markdown",
      "source": [
        "### 5. Implementación"
      ],
      "metadata": {
        "id": "oO6Mxw-70OHY"
      }
    },
    {
      "cell_type": "code",
      "source": [
        "#Install from PyPI.\n",
        "#!pip install -U google-generativeai #ya instalado\n",
        "#!pip install openai==0.28 #ya instalado\n",
        "#!pip install Pillow"
      ],
      "metadata": {
        "id": "NRw_ouZouh5G"
      },
      "execution_count": null,
      "outputs": []
    },
    {
      "cell_type": "code",
      "source": [
        "# Importación de bibliotecas\n",
        "# Uso general\n",
        "import os\n",
        "import re\n",
        "import requests\n",
        "import json\n",
        "from io import BytesIO\n",
        "from PIL import Image\n",
        "from google.colab import userdata  # Para usar API keys desde Google Colab Secrets\n",
        "\n",
        "# Google Generative AI y configuración de API KEY\n",
        "import google.generativeai as genai\n",
        "\n",
        "# Configurar la clave API para Google Gemini (Generative AI)\n",
        "os.environ[\"GEMINI_API_KEY\"] = userdata.get('GEMINI_API_KEY')  # Obtener clave desde Colab Secrets\n",
        "genai.configure(api_key=os.environ[\"GEMINI_API_KEY\"])  # Configurar la API de Google Generative AI\n",
        "\n",
        "# OpenAI y configuración de API KEY\n",
        "import openai\n",
        "\n",
        "# Configurar la clave API para OpenAI\n",
        "os.environ[\"OPENAI_API_KEY\"] = userdata.get('OPENAI_API_KEY')  # Obtener clave desde Colab Secrets\n",
        "openai.api_key = os.environ[\"OPENAI_API_KEY\"]  # Asignar clave API de OpenAI a la variable api_key"
      ],
      "metadata": {
        "collapsed": true,
        "id": "VFH8ojVPuo9y"
      },
      "execution_count": 47,
      "outputs": []
    },
    {
      "cell_type": "code",
      "source": [
        "#Solicitar al Usuario que cargue su información profesional y la almacena en un diccionario.\n",
        "def procesar_texto(texto):\n",
        "    informacion_usuario = {}\n",
        "    categorias = [\"Formación académica\", \"Experiencia laboral\", \"Logros\", \"Habilidades\", \"Cursos\", \"Hobbies\"]\n",
        "\n",
        "    # Expresión regular más flexible para detectar categorías\n",
        "    secciones = re.split(r\"(?i)(\" + \"|\".join([c + r\":?\" for c in categorias]) + r\")\", texto)\n",
        "    secciones = [s.strip() for s in secciones if s.strip()]\n",
        "\n",
        "    # Extraer información de cada sección\n",
        "    for i in range(0, len(secciones), 2):\n",
        "        categoria = secciones[i][:-1] if secciones[i].endswith(':') else secciones[i]\n",
        "        contenido = secciones[i + 1] if i + 1 < len(secciones) else \"No se proporcionó información.\"\n",
        "        informacion_usuario[categoria] = contenido.strip()\n",
        "\n",
        "    return informacion_usuario\n",
        "\n",
        "# Obtener la información del usuario\n",
        "#texto de pruebas con información variada para testear funcionamiento\n",
        "postulante_de_prueba = '''\n",
        "Formación académica:\n",
        "Licenciatura en Artes Visuales: Universidad Nacional de Bellas Artes (2016)\n",
        "Diplomado en Marketing Digital: Instituto de Formación Empresarial (2021)\n",
        "Magíster en Ciencia y tecnología de Materiales: Instituto de Tecnología Sabato UNSAM - CNEA (2019)\n",
        "Ingeniero Mecánico: Universidad Nacional del Comahue (2014)\n",
        "Experiencia laboral:\n",
        "Analista de Master Data: YPF S.A. (2022 - Actualidad)\n",
        "Ingeniero Catalogador: Sistemas de Catalogación S.R.L. (2019 - 2022)\n",
        "Ingeniero de análisis de falla/materiales: INVAP Ingeniería S.A. (2014 - 2017)\n",
        "Diseñador Gráfico: Agencia Creativa XYZ (2021 - Actualidad)\n",
        "Asistente de Marketing: Empresa de Tecnología Innovativa (2019 - 2021)\n",
        "Logros:\n",
        "Contribución significativa a la seguridad operativa y a la eficiencia de los procesos de abastecimiento en el sector energético (Oil&Gas).\n",
        "Desarrollo de una campaña de marketing digital que incrementó la visibilidad de la agencia en un 30%.\n",
        "Organización de exposiciones de arte a nivel local.\n",
        "Habilidades:\n",
        "Metodologías Ágiles\n",
        "SAP MM, MDG, PowerBi, Copilot.\n",
        "Normas ASME, API, ASTM, MSS.\n",
        "Caracterización mecánica de materiales. Integridad estructural.\n",
        "Procesos de la cadena de sumistro: catalogación, almacenes, inspección, proveedores, compras.\n",
        "Adobe Photoshop, Illustrator y CorelDRAW.\n",
        "Estrategias de redes sociales y contenido digital.\n",
        "Comunicación efectiva y trabajo en equipo.\n",
        "Cursos:\n",
        "Introducción a módulo SAP MM\n",
        "Visualización de datos con Excel\n",
        "PowerBI inicial\n",
        "Curso de Fotografía Digital: Escuela de Arte Visual (2022)\n",
        "Taller de Escritura Creativa: Centro Cultural (2020)\n",
        "Hobbies:\n",
        "Buceo recreativo.\n",
        "Natación.\n",
        "Entrenamiento funcional.\n",
        "Aeromodelismo.\n",
        "Pintura y escultura.\n",
        "Viajes gastronómicos.\n",
        "Senderismo.\n",
        "'''\n",
        "#texto = input(\"Pega aquí la información de tu carrera profesional considerando las categorías: Formación académica, Experiencia laboral, Logros, Habilidades, Cursos, Hobbies \")\n",
        "texto = postulante_de_prueba\n",
        "\n",
        "# Procesar el texto y manejar errores si una categoría falta\n",
        "informacion_usuario = procesar_texto(texto)\n",
        "\n",
        "# Convertir a JSON\n",
        "json_usuario = json.dumps(informacion_usuario, ensure_ascii=False, indent=4)\n",
        "\n",
        "# Mostrar el resultado en formato JSON\n",
        "print(json_usuario)\n"
      ],
      "metadata": {
        "id": "SvAOu6II416A",
        "outputId": "21ff2424-5bcd-4f5c-fdb0-f8286b70ff17",
        "colab": {
          "base_uri": "https://localhost:8080/"
        }
      },
      "execution_count": null,
      "outputs": [
        {
          "output_type": "stream",
          "name": "stdout",
          "text": [
            "{\n",
            "    \"Formación académica\": \"Licenciatura en Artes Visuales: Universidad Nacional de Bellas Artes (2016)\\nDiplomado en Marketing Digital: Instituto de Formación Empresarial (2021)\\nMagíster en Ciencia y tecnología de Materiales: Instituto de Tecnología Sabato UNSAM - CNEA (2019)\\nIngeniero Mecánico: Universidad Nacional del Comahue (2014)\",\n",
            "    \"Experiencia laboral\": \"Analista de Master Data: YPF S.A. (2022 - Actualidad)\\nIngeniero Catalogador: Sistemas de Catalogación S.R.L. (2019 - 2022)\\nIngeniero de análisis de falla/materiales: INVAP Ingeniería S.A. (2014 - 2017)\\nDiseñador Gráfico: Agencia Creativa XYZ (2021 - Actualidad)\\nAsistente de Marketing: Empresa de Tecnología Innovativa (2019 - 2021)\",\n",
            "    \"Logros\": \"Contribución significativa a la seguridad operativa y a la eficiencia de los procesos de abastecimiento en el sector energético (Oil&Gas).\\nDesarrollo de una campaña de marketing digital que incrementó la visibilidad de la agencia en un 30%.\\nOrganización de exposiciones de arte a nivel local.\",\n",
            "    \"Habilidades\": \"Metodologías Ágiles\\nSAP MM, MDG, PowerBi, Copilot.\\nNormas ASME, API, ASTM, MSS.\\nCaracterización mecánica de materiales. Integridad estructural.\\nProcesos de la cadena de sumistro: catalogación, almacenes, inspección, proveedores, compras.\\nAdobe Photoshop, Illustrator y CorelDRAW.\\nEstrategias de redes sociales y contenido digital.\\nComunicación efectiva y trabajo en equipo.\",\n",
            "    \"Cursos\": \"Introducción a módulo SAP MM\\nVisualización de datos con Excel\\nPowerBI inicial\\nCurso de Fotografía Digital: Escuela de Arte Visual (2022)\\nTaller de Escritura Creativa: Centro Cultural (2020)\",\n",
            "    \"Hobbies\": \"Buceo recreativo.\\nNatación.\\nEntrenamiento funcional.\\nAeromodelismo.\\nPintura y escultura.\\nViajes gastronómicos.\\nSenderismo.\"\n",
            "}\n"
          ]
        }
      ]
    },
    {
      "cell_type": "code",
      "source": [
        "# Solicitar el texto de la oferta laboral\n",
        "def procesar_oferta(texto_oferta):\n",
        "    informacion_oferta = {}\n",
        "    categorias = [\"Título\", \"Descripción\", \"Responsabilidades\", \"Requisitos\", \"Ofrecemos\"]\n",
        "\n",
        "    # Expresión regular para detectar categorías\n",
        "    secciones = re.split(r\"(?i)(\" + \"|\".join([c + r\":?\" for c in categorias]) + r\")\", texto_oferta)\n",
        "    secciones = [s.strip() for s in secciones if s.strip()]\n",
        "\n",
        "    # Extraer información de cada sección\n",
        "    for i in range(0, len(secciones), 2):\n",
        "        categoria = secciones[i][:-1] if secciones[i].endswith(':') else secciones[i]\n",
        "        contenido = secciones[i + 1] if i + 1 < len(secciones) else \"No se proporcionó información.\"\n",
        "        informacion_oferta[categoria] = contenido.strip()\n",
        "\n",
        "    return informacion_oferta\n",
        "\n",
        "# Texto de la oferta\n",
        "oferta_de_prueba1= '''\n",
        "Título:\n",
        "Ingeniero Mecánico Equipos Rotativos\n",
        "Descripción:\n",
        "Técnicas Reunidas Group (TR) es una compañía Internacional de Ingeniería y Construcción lider del sector Oil&Gas, especializada en el diseño, construcción y dirección de ejecución de plantas industriales a nivel mundial. También, participamos en proyectos relacionados con hidrógeno, biomasa, biocombustibles, descarbonización, inteligencia artificial y digitalización.\n",
        "El crecimiento sostenible, la descarbonización y la transición energética, son los conceptos que representan nuestra cultura.\n",
        "Nuestro alto nivel de profesionalismo y compromiso nos impulsa a una investigación permanente para mejorar la eficiencia y la sostenibilidad y siempre con un riguroso cumplimiento de la ley y alineados con los más altos estándares éticos.\n",
        "En Técnicas Reunidas buscamos sumar Ingenieros Mecánicos con experiencia en equipos rotativos para radicarse en España.\n",
        "Responsabilidades:\n",
        "El cumplimiento de objetivos en calidad y tiempo.\n",
        "Fijar criterios de diseño.\n",
        "Cálculos, estudios, especificaciones técnicas de equipos rotativos.\n",
        "Requisiciones para petición de ofertas, tabulaciones técnicas y pedidos de equipos rotativos y sus auxiliares.\n",
        "Informes técnicos de avance. Análisis de fallas.\n",
        "Revisar los planos de suministradores.\n",
        "Apoyo en obra.\n",
        "Colaborar en las inspecciones, pruebas y ensayos necesarios, de acuerdo con lo requerido en las especificaciones y códigos aplicables.\n",
        "Conocer y aplicar toda la documentación y los procedimientos existentes, tanto referentes a los procedimientos propios de su departamento o área de gestión, como los documentos o procedimientos corporativos que sean de aplicación.\n",
        "Comprobar, si es requerido, los cálculos de los suministradores.\n",
        "Requisitos:\n",
        "Titulación en Ingeniería Mecánica.\n",
        "Experiencia de 10 años en la industria Oil&Gas.\n",
        "Experiencia no menor a 8 años en equipos rotativos (Turbinas, sellos, bombas, compresores).\n",
        "Nivel intermedio de inglés.\n",
        "Disponibilidad para viajar.\n",
        "Disponibilidad para radicarse en Madrid - España.\n",
        "Conocimientos informáticos propios de uso en el área de mecánica.\n",
        "Ciudadanía de la Comunidad Europea (No excluyente).\n",
        "Ofrecemos:\n",
        "Contrato indefinido.\n",
        "Desarrollo Profesional.\n",
        "Ambiente internacional y multicultural.\n",
        "'''\n",
        "oferta_de_prueba2= '''\n",
        "Título: Ingeniero de Software\n",
        "Descripción: En Innovatech Solutions, somos una empresa líder en el desarrollo de soluciones tecnológicas avanzadas, especializada en el diseño y implementación de software a medida para diversas industrias. Nuestra misión es transformar las ideas de nuestros clientes en soluciones efectivas y eficientes, a través de la innovación constante y la adopción de nuevas tecnologías.\n",
        "Buscamos un Ingeniero de Software que comparta nuestra pasión por la tecnología y la excelencia. Nuestro ambiente de trabajo es dinámico y colaborativo, donde valoramos la creatividad y el pensamiento crítico. Valoramos el aprendizaje continuo y ofrecemos oportunidades de desarrollo profesional en un contexto internacional, donde la diversidad es parte de nuestra cultura.\n",
        "Diseñar, desarrollar y mantener aplicaciones web robustas y escalables.\n",
        "Participar en la arquitectura y el diseño de soluciones de software innovadoras.\n",
        "Colaborar con equipos multidisciplinarios para definir y entender los requisitos del cliente.\n",
        "Realizar pruebas unitarias y de integración para asegurar la calidad del software.\n",
        "Documentar el código y los procesos de desarrollo de acuerdo con las mejores prácticas.\n",
        "Investigar y aplicar nuevas tecnologías y metodologías para mejorar nuestros procesos.\n",
        "Mantenerse actualizado con las tendencias del sector y las nuevas herramientas de desarrollo.\n",
        "Requisitos:\n",
        "Título en Ingeniería en Sistemas, Computación o un campo relacionado.\n",
        "Mínimo 3 años de experiencia en desarrollo de software, preferentemente en entornos ágiles.\n",
        "Dominio de lenguajes de programación como Python y JavaScript.\n",
        "Experiencia en desarrollo de aplicaciones web utilizando frameworks modernos (por ejemplo, Django, React).\n",
        "Conocimientos de bases de datos relacionales y no relacionales (SQL, MongoDB).\n",
        "Nivel intermedio de inglés.\n",
        "Capacidad para trabajar en equipo y buena comunicación interpersonal.\n",
        "Disponibilidad para asistir a reuniones ocasionales en diferentes zonas horarias.\n",
        "Ofrecemos:\n",
        "Contrato indefinido con un paquete de beneficios competitivo.\n",
        "Oportunidades de desarrollo profesional y capacitación continua.\n",
        "Un ambiente de trabajo internacional y multicultural, con flexibilidad laboral.\n",
        "Participación en proyectos innovadores y desafiantes que impactan en diversas industrias.\n",
        "    '''\n",
        "\n",
        "# texto_oferta = input(\"Pega aquí el texto de la oferta laboral: \")\n",
        "texto_oferta1 = oferta_de_prueba1\n",
        "texto_oferta2 = oferta_de_prueba2\n",
        "\n",
        "# Procesar la oferta y manejar secciones faltantes\n",
        "informacion_oferta1 = procesar_oferta(texto_oferta1)\n",
        "informacion_oferta2 = procesar_oferta(texto_oferta2)\n",
        "\n",
        "# Convertir a JSON\n",
        "json_oferta1 = json.dumps(informacion_oferta1, ensure_ascii=False, indent=4)\n",
        "json_oferta2 = json.dumps(informacion_oferta2, ensure_ascii=False, indent=4)\n",
        "\n",
        "# Mostrar el resultado en formato JSON\n",
        "print(json_oferta1)\n",
        "print(json_oferta2)"
      ],
      "metadata": {
        "colab": {
          "base_uri": "https://localhost:8080/"
        },
        "id": "xT6IxW81WO4D",
        "outputId": "a679bcee-44ad-4d92-d16e-c9bf831be171"
      },
      "execution_count": null,
      "outputs": [
        {
          "output_type": "stream",
          "name": "stdout",
          "text": [
            "{\n",
            "    \"Título\": \"Ingeniero Mecánico Equipos Rotativos\",\n",
            "    \"Descripción\": \"Técnicas Reunidas Group (TR) es una compañía Internacional de Ingeniería y Construcción lider del sector Oil&Gas, especializada en el diseño, construcción y dirección de ejecución de plantas industriales a nivel mundial. También, participamos en proyectos relacionados con hidrógeno, biomasa, biocombustibles, descarbonización, inteligencia artificial y digitalización.\\nEl crecimiento sostenible, la descarbonización y la transición energética, son los conceptos que representan nuestra cultura.\\nNuestro alto nivel de profesionalismo y compromiso nos impulsa a una investigación permanente para mejorar la eficiencia y la sostenibilidad y siempre con un riguroso cumplimiento de la ley y alineados con los más altos estándares éticos.\\nEn Técnicas Reunidas buscamos sumar Ingenieros Mecánicos con experiencia en equipos rotativos para radicarse en España.\",\n",
            "    \"Responsabilidades\": \"El cumplimiento de objetivos en calidad y tiempo.\\nFijar criterios de diseño.\\nCálculos, estudios, especificaciones técnicas de equipos rotativos.\\nRequisiciones para petición de ofertas, tabulaciones técnicas y pedidos de equipos rotativos y sus auxiliares.\\nInformes técnicos de avance. Análisis de fallas.\\nRevisar los planos de suministradores.\\nApoyo en obra.\\nColaborar en las inspecciones, pruebas y ensayos necesarios, de acuerdo con lo requerido en las especificaciones y códigos aplicables.\\nConocer y aplicar toda la documentación y los procedimientos existentes, tanto referentes a los procedimientos propios de su departamento o área de gestión, como los documentos o procedimientos corporativos que sean de aplicación.\\nComprobar, si es requerido, los cálculos de los suministradores.\",\n",
            "    \"Requisitos\": \"Titulación en Ingeniería Mecánica.\\nExperiencia de 10 años en la industria Oil&Gas.\\nExperiencia no menor a 8 años en equipos rotativos (Turbinas, sellos, bombas, compresores).\\nNivel intermedio de inglés.\\nDisponibilidad para viajar.\\nDisponibilidad para radicarse en Madrid - España.\\nConocimientos informáticos propios de uso en el área de mecánica.\\nCiudadanía de la Comunidad Europea (No excluyente).\",\n",
            "    \"Ofrecemos\": \"Contrato indefinido.\\nDesarrollo Profesional.\\nAmbiente internacional y multicultural.\"\n",
            "}\n",
            "{\n",
            "    \"Título\": \"Ingeniero de Software\",\n",
            "    \"Descripción\": \"En Innovatech Solutions, somos una empresa líder en el desarrollo de soluciones tecnológicas avanzadas, especializada en el diseño y implementación de software a medida para diversas industrias. Nuestra misión es transformar las ideas de nuestros clientes en soluciones efectivas y eficientes, a través de la innovación constante y la adopción de nuevas tecnologías.\\nBuscamos un Ingeniero de Software que comparta nuestra pasión por la tecnología y la excelencia. Nuestro ambiente de trabajo es dinámico y colaborativo, donde valoramos la creatividad y el pensamiento crítico. Valoramos el aprendizaje continuo y\",\n",
            "    \"ofrecemos\": \"oportunidades de desarrollo profesional en un contexto internacional, donde la diversidad es parte de nuestra cultura.\\nDiseñar, desarrollar y mantener aplicaciones web robustas y escalables.\\nParticipar en la arquitectura y el diseño de soluciones de software innovadoras.\\nColaborar con equipos multidisciplinarios para definir y entender los\",\n",
            "    \"requisitos\": \"del cliente.\\nRealizar pruebas unitarias y de integración para asegurar la calidad del software.\\nDocumentar el código y los procesos de desarrollo de acuerdo con las mejores prácticas.\\nInvestigar y aplicar nuevas tecnologías y metodologías para mejorar nuestros procesos.\\nMantenerse actualizado con las tendencias del sector y las nuevas herramientas de desarrollo.\",\n",
            "    \"Requisitos\": \"Título\",\n",
            "    \"en Ingeniería en Sistemas, Computación o un campo relacionado.\\nMínimo 3 años de experiencia en desarrollo de software, preferentemente en entornos ágiles.\\nDominio de lenguajes de programación como Python y JavaScript.\\nExperiencia en desarrollo de aplicaciones web utilizando frameworks modernos (por ejemplo, Django, React).\\nConocimientos de bases de datos relacionales y no relacionales (SQL, MongoDB).\\nNivel intermedio de inglés.\\nCapacidad para trabajar en equipo y buena comunicación interpersonal.\\nDisponibilidad para asistir a reuniones ocasionales en diferentes zonas horarias.\": \"Ofrecemos:\",\n",
            "    \"Contrato indefinido con un paquete de beneficios competitivo.\\nOportunidades de desarrollo profesional y capacitación continua.\\nUn ambiente de trabajo internacional y multicultural, con flexibilidad laboral.\\nParticipación en proyectos innovadores y desafiantes que impactan en diversas industrias.\": \"No se proporcionó información.\"\n",
            "}\n"
          ]
        }
      ]
    },
    {
      "cell_type": "code",
      "source": [
        "# Define el prompt con la información de las variables\n",
        "def generar_prompt(informacion_oferta):\n",
        "  prompt = f\"\"\"\n",
        "Eres un especialista en selección de personal. Tu misión es ayudar a un postulante a maximizar sus posibilidades de ser seleccionado por un reclutador. Para ello, analiza la información del postulante: {informacion_usuario} y la oferta laboral a la cual quiere aplicar: {informacion_oferta}. Realiza las tareas descritas más abajo.\n",
        "\n",
        "1. **Analiza la búsqueda de empleo:**\n",
        "    * Identifica el nombre de la posición buscada.\n",
        "    * Extrae las palabras clave y habilidades más importantes mencionadas en la oferta.\n",
        "    * Determina los requisitos específicos en cuanto a formación académica que se mencionan.\n",
        "    * Identifica los logros o resultados específicos que busca el reclutador en el postulante.\n",
        "\n",
        "2. **Analiza la información del postulante:**\n",
        "    * Selecciona y lista únicamente la información relevante para la búsqueda en función del análisis realizado en el paso anterior, organizándola en los apartados indicados más abajo. Excluye para cada apartado la información que no sea relevante para la búsqueda.\n",
        "        * Formación académica\n",
        "        * Experiencia laboral\n",
        "        * Logros\n",
        "        * Habilidades\n",
        "        * Cursos\n",
        "        * Hobbies\n",
        "\n",
        "3. **Genera un reporte con la siguiente estructura:**\n",
        "\n",
        "*********************************************************************************\n",
        "                         Informe de Candidatura\n",
        "*********************************************************************************\n",
        "\n",
        "    * **Análisis de la búsqueda:**\n",
        "        * Nombre del puesto: [Nombre del puesto]\n",
        "        * Palabras clave: [Lista de palabras clave]\n",
        "        * Habilidades: [Lista de habilidades]\n",
        "        * Requisitos de formación: [Requisitos de formación]\n",
        "        * Logros deseados: [Logros deseados]\n",
        "\n",
        "    * **Sobre mí:**\n",
        "        * [Un breve resumen del postulante y sus objetivos profesionales, destacando su alineación con la posición buscada, es importante que no incluya comentarios sobre cosas que el postulante realmento no hizo o no tiene experiencia]\n",
        "\n",
        "    * **Formación:**\n",
        "        * [Información relevante sobre la formación académica del postulante]\n",
        "\n",
        "    * **Experiencia:**\n",
        "        * [Información relevante sobre la experiencia laboral del postulante]\n",
        "\n",
        "    * **Habilidades:**\n",
        "        * [Lista de habilidades relevantes del postulante]\n",
        "\n",
        "    * **Intereses personales:**\n",
        "        * [Hobbies e intereses relevantes del postulante que puedan ser de interés para el reclutador]\n",
        "\n",
        "    * **% de afinidad:**\n",
        "        * [Un porcentaje que indique la afinidad entre el perfil del postulante y los requisitos del puesto, basado en tu análisis]\n",
        "\n",
        "\n",
        "\n",
        "***************************************************************************\n",
        "\n",
        "**Ejemplo:**\n",
        "\n",
        "Si la oferta de trabajo busca un \"Ingeniero de Software con experiencia en Python y desarrollo web\", el reporte debería destacar la experiencia del postulante en Python y desarrollo web, así como cualquier proyecto o logro relacionado y excluir experiencia en otras áreas como por ejemplo Mozo en cafetería o formación en educación física.\n",
        "\n",
        "**Recuerda:**\n",
        "* Es muy importante que en tu reporte solo incluyas la información relevante para la oferta cargada por el usuario; excluye todo lo irrelevante y destaca lo relevante sin inventar información.\n",
        "* El objetivo es presentar la información del postulante de la manera más atractiva para el reclutador, enfatizando las coincidencias con la oferta de trabajo.\n",
        "* El porcentaje de afinidad debe ser una estimación basada en tu análisis, no un cálculo exacto.\n",
        "* Asegúrate de que el reporte sea claro, conciso y fácil de leer.\n",
        "* Lista las exclusiones que has hecho por irrelevantes a la oferta laboral propuesta.\n",
        "\"\"\"\n",
        "  return prompt\n",
        "\n",
        "prompt1 = generar_prompt(informacion_oferta1)\n",
        "prompt2 = generar_prompt(informacion_oferta2)\n",
        "\n",
        "# Crea el modelo\n",
        "model = genai.GenerativeModel('gemini-1.5-flash')\n",
        "\n",
        "# Genera la respuesta\n",
        "response1 = model.generate_content(prompt1)\n",
        "response2 = model.generate_content(prompt2)\n",
        "\n",
        "# Imprime la respuesta\n",
        "print(response1.text)\n",
        "print(response2.text)"
      ],
      "metadata": {
        "colab": {
          "base_uri": "https://localhost:8080/",
          "height": 1000
        },
        "id": "UgACvPuXvn0J",
        "outputId": "52845a82-e646-45d6-dcac-19c0d8d15c4d"
      },
      "execution_count": 49,
      "outputs": [
        {
          "output_type": "stream",
          "name": "stdout",
          "text": [
            "## Informe de Candidatura\n",
            "\n",
            "*********************************************************************************\n",
            "                         Informe de Candidatura\n",
            "*********************************************************************************\n",
            "\n",
            "**Análisis de la búsqueda:**\n",
            "\n",
            "* **Nombre del puesto:** Ingeniero Mecánico Equipos Rotativos\n",
            "* **Palabras clave:** Ingeniería Mecánica, Oil&Gas, equipos rotativos, turbinas, sellos, bombas, compresores,  análisis de fallas, especificaciones técnicas, requisitos de diseño, procedimientos corporativos, planos de suministradores, inspecciones, pruebas, ensayos, códigos aplicables, cálculos, tabulaciones técnicas, pedidos de equipos, informes técnicos,  ciudadanía de la Comunidad Europea (no excluyente).\n",
            "* **Habilidades:** Experiencia en equipos rotativos (turbinas, sellos, bombas, compresores), conocimientos informáticos propios del área de mecánica, nivel intermedio de inglés,  conocimiento de códigos y especificaciones aplicables.\n",
            "* **Requisitos de formación:** Titulación en Ingeniería Mecánica.\n",
            "* **Logros deseados:** Experiencia demostrable en el diseño, cálculo, especificación y gestión de equipos rotativos en proyectos de Oil&Gas.\n",
            "\n",
            "**Sobre mí:**\n",
            "\n",
            "Soy un profesional con una sólida formación en ingeniería mecánica y una amplia experiencia en la industria Oil&Gas, con un enfoque especial en la gestión y análisis de equipos rotativos. Poseo un profundo conocimiento de los procesos de la cadena de suministro, incluyendo la catalogación, almacenamiento, inspección, adquisición y gestión de proveedores. Mi experiencia en el diseño, análisis y gestión de equipos rotativos, combinada con mi capacidad para trabajar en equipo y cumplir con plazos ajustados, me convierte en un candidato ideal para esta posición.\n",
            "\n",
            "**Formación:**\n",
            "\n",
            "* **Ingeniería Mecánica:** Universidad Nacional del Comahue (2014)\n",
            "* **Magíster en Ciencia y tecnología de Materiales:** Instituto de Tecnología Sabato UNSAM - CNEA (2019)\n",
            "\n",
            "**Experiencia:**\n",
            "\n",
            "* **Analista de Master Data:** YPF S.A. (2022 - Actualidad)\n",
            "* **Ingeniero Catalogador:** Sistemas de Catalogación S.R.L. (2019 - 2022)\n",
            "* **Ingeniero de análisis de falla/materiales:** INVAP Ingeniería S.A. (2014 - 2017)\n",
            "\n",
            "**Habilidades:**\n",
            "\n",
            "* **Experiencia en equipos rotativos:**  (INVAP Ingeniería S.A. 2014 - 2017).\n",
            "* **Procesos de la cadena de sumistro:** catalogación, almacenes, inspección, proveedores, compras (YPF S.A., Sistemas de Catalogación S.R.L.).\n",
            "* **Caracterización mecánica de materiales. Integridad estructural.** (INVAP Ingeniería S.A.)\n",
            "* **Normas ASME, API, ASTM, MSS.** (INVAP Ingeniería S.A.)\n",
            "* **SAP MM, MDG, PowerBi, Copilot.** (YPF S.A.)\n",
            "* **Metodologías Ágiles** (YPF S.A.)\n",
            "\n",
            "**Intereses personales:**\n",
            "\n",
            "* **Aeromodelismo:**  Experiencia en diseño y construcción de modelos de aviones, lo que demuestra habilidades en ingeniería mecánica y análisis de sistemas.\n",
            "\n",
            "**% de afinidad:** 70%\n",
            "\n",
            "**Exclusiones:**\n",
            "\n",
            "* **Licenciatura en Artes Visuales:** No se relaciona con los requisitos de la oferta.\n",
            "* **Diplomado en Marketing Digital:**  No se relaciona con los requisitos de la oferta.\n",
            "* **Diseñador Gráfico:** No se relaciona con los requisitos de la oferta.\n",
            "* **Asistente de Marketing:** No se relaciona con los requisitos de la oferta.\n",
            "* **Logros:**  Se incluyen los logros relacionados con la experiencia laboral, no con las áreas de diseño y marketing.\n",
            "* **Cursos:** Se incluyen los cursos relacionados con SAP MM y PowerBI, no los relacionados con Fotografía Digital ni Escritura Creativa.\n",
            "* **Hobbies:** Se incluyen los hobbies relacionados con ingeniería y mecánica, no los relacionados con la pintura, escultura, viajes gastronómicos, buceo o senderismo.\n",
            "\n",
            "**Observaciones:**\n",
            "\n",
            "El postulante cuenta con una formación en ingeniería mecánica, experiencia en equipos rotativos, conocimiento de normas y procesos relevantes para la industria Oil&Gas, y experiencia en gestión de la cadena de suministro. Sin embargo, no cumple con los requisitos mínimos de experiencia en equipos rotativos (8 años) ni de experiencia en Oil&Gas (10 años).  La experiencia en la industria Oil&Gas, aunque no en el rol específico, podría ser valorada por el reclutador.  Además, el postulante posee habilidades en software de gestión empresarial y en metodologías ágiles, que podrían ser de utilidad en el puesto.\n",
            "\n",
            "**Recomendación:**\n",
            "\n",
            "Se recomienda al postulante destacar en su candidatura su experiencia en equipos rotativos, su conocimiento de normas y procesos de la industria Oil&Gas, y sus habilidades en software de gestión empresarial. También se recomienda al postulante que explique cómo su experiencia en la cadena de suministro podría ser relevante para el puesto.  Es importante que el postulante sea honesto sobre su experiencia, pero también que la presente de la manera más atractiva para el reclutador.\n",
            "\n",
            "**Nota:** \n",
            "\n",
            "Este análisis se ha realizado en base a la información proporcionada.  Es importante que el postulante revise y actualice la información proporcionada para garantizar que se ajusta a la realidad.\n",
            "\n",
            "## Informe de Candidatura\n",
            "\n",
            "*********************************************************************************\n",
            "                         Informe de Candidatura\n",
            "*********************************************************************************\n",
            "\n",
            "* **Análisis de la búsqueda:**\n",
            "    * Nombre del puesto: Ingeniero de Software\n",
            "    * Palabras clave: desarrollo de software, soluciones tecnológicas, diseño e implementación, software a medida, innovación, tecnologías avanzadas, aplicaciones web, frameworks modernos, bases de datos, pruebas unitarias, integración, documentación, código, procesos de desarrollo, investigación, tendencias, herramientas de desarrollo.\n",
            "    * Habilidades: Python, JavaScript, desarrollo web, frameworks modernos (Django, React), bases de datos relacionales y no relacionales (SQL, MongoDB), pruebas unitarias e integración, documentación de código y procesos, investigación y aplicación de nuevas tecnologías, trabajo en equipo, comunicación interpersonal.\n",
            "    * Requisitos de formación: Título en Ingeniería en Sistemas, Computación o un campo relacionado.\n",
            "    * Logros deseados: No se mencionan logros específicos en la oferta, pero se destaca la importancia de la innovación, la investigación y el desarrollo de soluciones tecnológicas avanzadas.\n",
            "\n",
            "* **Sobre mí:**\n",
            "    * Soy un profesional con una amplia experiencia en diversas áreas de la ingeniería, con un perfil multidisciplinario que me permite aportar una visión integral a los proyectos. Me apasiona la tecnología y busco un puesto que me permita aplicar mi conocimiento en el desarrollo de soluciones innovadoras. Mi experiencia en desarrollo web, frameworks modernos y lenguajes de programación como Python me posicionan como un candidato ideal para la posición de Ingeniero de Software.\n",
            "\n",
            "* **Formación:**\n",
            "    * Ingeniero Mecánico: Universidad Nacional del Comahue (2014)\n",
            "    * Magíster en Ciencia y tecnología de Materiales: Instituto de Tecnología Sabato UNSAM - CNEA (2019)\n",
            "    * Diplomado en Marketing Digital: Instituto de Formación Empresarial (2021)\n",
            "\n",
            "* **Experiencia:**\n",
            "    * Analista de Master Data: YPF S.A. (2022 - Actualidad)\n",
            "    * Ingeniero Catalogador: Sistemas de Catalogación S.R.L. (2019 - 2022)\n",
            "    * Ingeniero de análisis de falla/materiales: INVAP Ingeniería S.A. (2014 - 2017)\n",
            "\n",
            "* **Habilidades:**\n",
            "    * Python\n",
            "    * JavaScript\n",
            "    * Frameworks modernos (Django, React)\n",
            "    * Bases de datos relacionales y no relacionales (SQL, MongoDB)\n",
            "    * Metodologías Ágiles\n",
            "    * SAP MM, MDG, PowerBi, Copilot.\n",
            "    * Normas ASME, API, ASTM, MSS.\n",
            "    * Caracterización mecánica de materiales. Integridad estructural.\n",
            "    * Procesos de la cadena de sumistro: catalogación, almacenes, inspección, proveedores, compras.\n",
            "\n",
            "* **Intereses personales:**\n",
            "    * Me apasiona la tecnología y busco un puesto que me permita aplicar mi conocimiento en el desarrollo de soluciones innovadoras.\n",
            "\n",
            "* **% de afinidad:** 60%\n",
            "\n",
            "**Exclusiones:**\n",
            "\n",
            "* Se ha excluido la formación en Artes Visuales y el Diploma en Marketing Digital, ya que no son relevantes para el puesto de Ingeniero de Software.\n",
            "* Se ha excluido la experiencia como Diseñador Gráfico y Asistente de Marketing, ya que no son relevantes para el puesto de Ingeniero de Software.\n",
            "* Se ha excluido la experiencia como Asistente de Marketing, ya que no es relevante para el puesto de Ingeniero de Software.\n",
            "* Se ha excluido la información sobre los cursos \"Introducción a módulo SAP MM\", \"Visualización de datos con Excel\", \"PowerBI inicial\", \"Curso de Fotografía Digital\" y \"Taller de Escritura Creativa\", ya que no son relevantes para el puesto de Ingeniero de Software.\n",
            "* Se han excluido los hobbies del postulante, ya que no son relevantes para el puesto de Ingeniero de Software.\n",
            "\n",
            "**Justificación de la afinidad:**\n",
            "\n",
            "La afinidad del 60% se basa en la experiencia del postulante con la ingeniería y su formación en áreas relacionadas con la tecnología, aunque no se específica experiencia previa en desarrollo de software. El postulante posee habilidades relevantes como el conocimiento de Python y la experiencia con bases de datos. Sin embargo, se necesita más información sobre su experiencia específica en desarrollo web y frameworks modernos para una mejor evaluación. \n",
            "\n"
          ]
        }
      ]
    },
    {
      "cell_type": "code",
      "source": [
        "#Generacion de imágenes\n",
        "# Texto \"Sobre Mi\" del candidato obtenido en el paso anterior.\n",
        "sobre_mi1 = '''\n",
        "Soy un profesional con una sólida formación en ingeniería mecánica y una amplia experiencia en la industria Oil&Gas, con un enfoque especial en la gestión y análisis de equipos rotativos. Poseo un profundo conocimiento de los procesos de la cadena de suministro, incluyendo la catalogación, almacenamiento, inspección, adquisición y gestión de proveedores. Mi experiencia en el diseño, análisis y gestión de equipos rotativos, combinada con mi capacidad para trabajar en equipo y cumplir con plazos ajustados, me convierte en un candidato ideal para esta posición.\n",
        "'''\n",
        "# Make a text from an prompt (gemini)\n",
        "def generate_text_with_gemini(prompt):\n",
        "    # Generate content\n",
        "    model = genai.GenerativeModel('gemini-1.5-flash')\n",
        "    response = model.generate_content(f\"{prompt} genera un prompt para un modelo generativo de texto a imagen como DALL-E, describiendo visualmente el perfil del candidato. Incluye objetos que representen sus cualidades y actividades, como herramientas de ingeniería, gráficos de análisis y elementos relacionados con la industria Oil&Gas. La imagen debe captar la atención de un reclutador y reflejar las habilidades del candidato. \"\n",
        "    \"No incluyas texto ni figuras humanas. Debe ser adecuada para un CV como ícono o marca de agua, asegurando que sea clara y legible a pequeña escala. \"\n",
        "    \"Evita elementos fantásticos o irreales; mantén un estilo profesional y sobrio. Utiliza colores suaves y asegúrate de que el fondo no distraiga. La composición debe ser equilibrada y no sobrecargar la imagen.\")\n",
        "\n",
        "    # Get the response's text\n",
        "    generated_text = response.candidates[0].content.parts[0].text\n",
        "\n",
        "    return generated_text\n",
        "\n",
        "    initial_prompt = sobre_mi1\n",
        "\n",
        "# Use the function\n",
        "response_of_function_gemini = generate_text_with_gemini(initial_prompt)\n",
        "\n",
        "# Output\n",
        "print(f\"Prompt Gemini: {response_of_function_gemini}\")\n"
      ],
      "metadata": {
        "id": "EKMOyVp8XV54",
        "outputId": "3e4a8964-685c-48ac-c63c-65d01c78bca2",
        "colab": {
          "base_uri": "https://localhost:8080/",
          "height": 108
        }
      },
      "execution_count": 94,
      "outputs": [
        {
          "output_type": "stream",
          "name": "stdout",
          "text": [
            "Prompt Gemini: ## Prompt para DALL-E:\n",
            "\n",
            "Un fondo suave de color gris claro. En el centro, un engranaje metálico de gran tamaño, con una textura realista, que represente la ingeniería mecánica. Sobre el engranaje, una gráfica de líneas con colores suaves, mostrando tendencias de datos, que simboliza el análisis de equipos. A la izquierda del engranaje, una pequeña plataforma de perforación petrolera en miniatura, con una textura realista, representando la industria Oil&Gas. Debajo del engranaje, una pequeña cadena de suministro, con piezas de metal unidas por engranajes pequeños, que simboliza la gestión de la cadena de suministro. Alrededor de estos elementos, distribuidos de manera equilibrada, pequeñas herramientas de ingeniería como llaves, destornilladores y planos, también con textura realista. \n",
            "\n"
          ]
        }
      ]
    },
    {
      "cell_type": "code",
      "source": [
        "# Make an image from an prompt (openai)\n",
        "def generate_image_with_openai(prompt):\n",
        "    # Generate image\n",
        "    image_response = openai.Image.create(\n",
        "        prompt=prompt,\n",
        "        n=1,\n",
        "        size=\"1024x1024\"\n",
        "    )\n",
        "\n",
        "    # Get the image URL\n",
        "    response = image_response['data'][0]['url']\n",
        "    return response"
      ],
      "metadata": {
        "id": "k0ECgbxuHQRj"
      },
      "execution_count": 95,
      "outputs": []
    },
    {
      "cell_type": "code",
      "source": [
        "# Generate the image with OpenAI\n",
        "image_url = generate_image_with_openai(response_of_function_gemini)\n",
        "\n",
        "# Download the image\n",
        "response = requests.get(image_url)\n",
        "\n",
        "# Verify if possible to download\n",
        "if response.status_code == 200:\n",
        "    # Get filename without extension\n",
        "    filename = os.path.basename(image_url).split('.')[0]\n",
        "    # Add the extension \".png\"\n",
        "    filename += \".png\"\n",
        "\n",
        "    # Directory to save the image\n",
        "    directory = \"./generated_images/\"\n",
        "\n",
        "    # Make directory if it doesn't exist\n",
        "    if not os.path.exists(directory):\n",
        "        os.makedirs(directory)\n",
        "\n",
        "    # Complete path\n",
        "    filepath = os.path.join(directory, filename)\n",
        "\n",
        "    # Save the image\n",
        "    with open(filepath, 'wb') as f:\n",
        "        f.write(response.content)\n",
        "\n",
        "    print(\"La imagen ha sido descargada y almacenada correctamente en:\", filepath)\n",
        "\n",
        "    # Display the image using PIL\n",
        "    img = Image.open(filepath)\n",
        "    print(f\"Prompt utilizado: {response_of_function_gemini}\")\n",
        "    display(img)\n",
        "\n",
        "else:\n",
        "    print(\"Hubo un error al descargar la imagen.\")\n",
        "\n",
        "# Output the image URL\n",
        "print(f\"URL OpenAI: {image_url}\")"
      ],
      "metadata": {
        "id": "ZK0DqnR7H43l",
        "outputId": "9c7f5c50-bf9f-4968-82be-7c1855ee4101",
        "colab": {
          "base_uri": "https://localhost:8080/",
          "height": 382
        }
      },
      "execution_count": 96,
      "outputs": [
        {
          "output_type": "error",
          "ename": "InvalidRequestError",
          "evalue": "Billing hard limit has been reached",
          "traceback": [
            "\u001b[0;31m---------------------------------------------------------------------------\u001b[0m",
            "\u001b[0;31mInvalidRequestError\u001b[0m                       Traceback (most recent call last)",
            "\u001b[0;32m<ipython-input-96-441db067b69b>\u001b[0m in \u001b[0;36m<cell line: 2>\u001b[0;34m()\u001b[0m\n\u001b[1;32m      1\u001b[0m \u001b[0;31m# Generate the image with OpenAI\u001b[0m\u001b[0;34m\u001b[0m\u001b[0;34m\u001b[0m\u001b[0m\n\u001b[0;32m----> 2\u001b[0;31m \u001b[0mimage_url\u001b[0m \u001b[0;34m=\u001b[0m \u001b[0mgenerate_image_with_openai\u001b[0m\u001b[0;34m(\u001b[0m\u001b[0mresponse_of_function_gemini\u001b[0m\u001b[0;34m)\u001b[0m\u001b[0;34m\u001b[0m\u001b[0;34m\u001b[0m\u001b[0m\n\u001b[0m\u001b[1;32m      3\u001b[0m \u001b[0;34m\u001b[0m\u001b[0m\n\u001b[1;32m      4\u001b[0m \u001b[0;31m# Download the image\u001b[0m\u001b[0;34m\u001b[0m\u001b[0;34m\u001b[0m\u001b[0m\n\u001b[1;32m      5\u001b[0m \u001b[0mresponse\u001b[0m \u001b[0;34m=\u001b[0m \u001b[0mrequests\u001b[0m\u001b[0;34m.\u001b[0m\u001b[0mget\u001b[0m\u001b[0;34m(\u001b[0m\u001b[0mimage_url\u001b[0m\u001b[0;34m)\u001b[0m\u001b[0;34m\u001b[0m\u001b[0;34m\u001b[0m\u001b[0m\n",
            "\u001b[0;32m<ipython-input-95-5a6fe759d73c>\u001b[0m in \u001b[0;36mgenerate_image_with_openai\u001b[0;34m(prompt)\u001b[0m\n\u001b[1;32m      2\u001b[0m \u001b[0;32mdef\u001b[0m \u001b[0mgenerate_image_with_openai\u001b[0m\u001b[0;34m(\u001b[0m\u001b[0mprompt\u001b[0m\u001b[0;34m)\u001b[0m\u001b[0;34m:\u001b[0m\u001b[0;34m\u001b[0m\u001b[0;34m\u001b[0m\u001b[0m\n\u001b[1;32m      3\u001b[0m     \u001b[0;31m# Generate image\u001b[0m\u001b[0;34m\u001b[0m\u001b[0;34m\u001b[0m\u001b[0m\n\u001b[0;32m----> 4\u001b[0;31m     image_response = openai.Image.create(\n\u001b[0m\u001b[1;32m      5\u001b[0m         \u001b[0mprompt\u001b[0m\u001b[0;34m=\u001b[0m\u001b[0mprompt\u001b[0m\u001b[0;34m,\u001b[0m\u001b[0;34m\u001b[0m\u001b[0;34m\u001b[0m\u001b[0m\n\u001b[1;32m      6\u001b[0m         \u001b[0mn\u001b[0m\u001b[0;34m=\u001b[0m\u001b[0;36m1\u001b[0m\u001b[0;34m,\u001b[0m\u001b[0;34m\u001b[0m\u001b[0;34m\u001b[0m\u001b[0m\n",
            "\u001b[0;32m/usr/local/lib/python3.10/dist-packages/openai/api_resources/image.py\u001b[0m in \u001b[0;36mcreate\u001b[0;34m(cls, api_key, api_base, api_type, api_version, organization, **params)\u001b[0m\n\u001b[1;32m     37\u001b[0m         \u001b[0mapi_type\u001b[0m\u001b[0;34m,\u001b[0m \u001b[0mapi_version\u001b[0m \u001b[0;34m=\u001b[0m \u001b[0mcls\u001b[0m\u001b[0;34m.\u001b[0m\u001b[0m_get_api_type_and_version\u001b[0m\u001b[0;34m(\u001b[0m\u001b[0mapi_type\u001b[0m\u001b[0;34m,\u001b[0m \u001b[0mapi_version\u001b[0m\u001b[0;34m)\u001b[0m\u001b[0;34m\u001b[0m\u001b[0;34m\u001b[0m\u001b[0m\n\u001b[1;32m     38\u001b[0m \u001b[0;34m\u001b[0m\u001b[0m\n\u001b[0;32m---> 39\u001b[0;31m         response, _, api_key = requestor.request(\n\u001b[0m\u001b[1;32m     40\u001b[0m             \u001b[0;34m\"post\"\u001b[0m\u001b[0;34m,\u001b[0m \u001b[0mcls\u001b[0m\u001b[0;34m.\u001b[0m\u001b[0m_get_url\u001b[0m\u001b[0;34m(\u001b[0m\u001b[0;34m\"generations\"\u001b[0m\u001b[0;34m,\u001b[0m \u001b[0mazure_action\u001b[0m\u001b[0;34m=\u001b[0m\u001b[0;34m\"submit\"\u001b[0m\u001b[0;34m,\u001b[0m \u001b[0mapi_type\u001b[0m\u001b[0;34m=\u001b[0m\u001b[0mapi_type\u001b[0m\u001b[0;34m,\u001b[0m \u001b[0mapi_version\u001b[0m\u001b[0;34m=\u001b[0m\u001b[0mapi_version\u001b[0m\u001b[0;34m)\u001b[0m\u001b[0;34m,\u001b[0m \u001b[0mparams\u001b[0m\u001b[0;34m\u001b[0m\u001b[0;34m\u001b[0m\u001b[0m\n\u001b[1;32m     41\u001b[0m         )\n",
            "\u001b[0;32m/usr/local/lib/python3.10/dist-packages/openai/api_requestor.py\u001b[0m in \u001b[0;36mrequest\u001b[0;34m(self, method, url, params, headers, files, stream, request_id, request_timeout)\u001b[0m\n\u001b[1;32m    296\u001b[0m             \u001b[0mrequest_timeout\u001b[0m\u001b[0;34m=\u001b[0m\u001b[0mrequest_timeout\u001b[0m\u001b[0;34m,\u001b[0m\u001b[0;34m\u001b[0m\u001b[0;34m\u001b[0m\u001b[0m\n\u001b[1;32m    297\u001b[0m         )\n\u001b[0;32m--> 298\u001b[0;31m         \u001b[0mresp\u001b[0m\u001b[0;34m,\u001b[0m \u001b[0mgot_stream\u001b[0m \u001b[0;34m=\u001b[0m \u001b[0mself\u001b[0m\u001b[0;34m.\u001b[0m\u001b[0m_interpret_response\u001b[0m\u001b[0;34m(\u001b[0m\u001b[0mresult\u001b[0m\u001b[0;34m,\u001b[0m \u001b[0mstream\u001b[0m\u001b[0;34m)\u001b[0m\u001b[0;34m\u001b[0m\u001b[0;34m\u001b[0m\u001b[0m\n\u001b[0m\u001b[1;32m    299\u001b[0m         \u001b[0;32mreturn\u001b[0m \u001b[0mresp\u001b[0m\u001b[0;34m,\u001b[0m \u001b[0mgot_stream\u001b[0m\u001b[0;34m,\u001b[0m \u001b[0mself\u001b[0m\u001b[0;34m.\u001b[0m\u001b[0mapi_key\u001b[0m\u001b[0;34m\u001b[0m\u001b[0;34m\u001b[0m\u001b[0m\n\u001b[1;32m    300\u001b[0m \u001b[0;34m\u001b[0m\u001b[0m\n",
            "\u001b[0;32m/usr/local/lib/python3.10/dist-packages/openai/api_requestor.py\u001b[0m in \u001b[0;36m_interpret_response\u001b[0;34m(self, result, stream)\u001b[0m\n\u001b[1;32m    698\u001b[0m         \u001b[0;32melse\u001b[0m\u001b[0;34m:\u001b[0m\u001b[0;34m\u001b[0m\u001b[0;34m\u001b[0m\u001b[0m\n\u001b[1;32m    699\u001b[0m             return (\n\u001b[0;32m--> 700\u001b[0;31m                 self._interpret_response_line(\n\u001b[0m\u001b[1;32m    701\u001b[0m                     \u001b[0mresult\u001b[0m\u001b[0;34m.\u001b[0m\u001b[0mcontent\u001b[0m\u001b[0;34m.\u001b[0m\u001b[0mdecode\u001b[0m\u001b[0;34m(\u001b[0m\u001b[0;34m\"utf-8\"\u001b[0m\u001b[0;34m)\u001b[0m\u001b[0;34m,\u001b[0m\u001b[0;34m\u001b[0m\u001b[0;34m\u001b[0m\u001b[0m\n\u001b[1;32m    702\u001b[0m                     \u001b[0mresult\u001b[0m\u001b[0;34m.\u001b[0m\u001b[0mstatus_code\u001b[0m\u001b[0;34m,\u001b[0m\u001b[0;34m\u001b[0m\u001b[0;34m\u001b[0m\u001b[0m\n",
            "\u001b[0;32m/usr/local/lib/python3.10/dist-packages/openai/api_requestor.py\u001b[0m in \u001b[0;36m_interpret_response_line\u001b[0;34m(self, rbody, rcode, rheaders, stream)\u001b[0m\n\u001b[1;32m    763\u001b[0m         \u001b[0mstream_error\u001b[0m \u001b[0;34m=\u001b[0m \u001b[0mstream\u001b[0m \u001b[0;32mand\u001b[0m \u001b[0;34m\"error\"\u001b[0m \u001b[0;32min\u001b[0m \u001b[0mresp\u001b[0m\u001b[0;34m.\u001b[0m\u001b[0mdata\u001b[0m\u001b[0;34m\u001b[0m\u001b[0;34m\u001b[0m\u001b[0m\n\u001b[1;32m    764\u001b[0m         \u001b[0;32mif\u001b[0m \u001b[0mstream_error\u001b[0m \u001b[0;32mor\u001b[0m \u001b[0;32mnot\u001b[0m \u001b[0;36m200\u001b[0m \u001b[0;34m<=\u001b[0m \u001b[0mrcode\u001b[0m \u001b[0;34m<\u001b[0m \u001b[0;36m300\u001b[0m\u001b[0;34m:\u001b[0m\u001b[0;34m\u001b[0m\u001b[0;34m\u001b[0m\u001b[0m\n\u001b[0;32m--> 765\u001b[0;31m             raise self.handle_error_response(\n\u001b[0m\u001b[1;32m    766\u001b[0m                 \u001b[0mrbody\u001b[0m\u001b[0;34m,\u001b[0m \u001b[0mrcode\u001b[0m\u001b[0;34m,\u001b[0m \u001b[0mresp\u001b[0m\u001b[0;34m.\u001b[0m\u001b[0mdata\u001b[0m\u001b[0;34m,\u001b[0m \u001b[0mrheaders\u001b[0m\u001b[0;34m,\u001b[0m \u001b[0mstream_error\u001b[0m\u001b[0;34m=\u001b[0m\u001b[0mstream_error\u001b[0m\u001b[0;34m\u001b[0m\u001b[0;34m\u001b[0m\u001b[0m\n\u001b[1;32m    767\u001b[0m             )\n",
            "\u001b[0;31mInvalidRequestError\u001b[0m: Billing hard limit has been reached"
          ]
        }
      ]
    },
    {
      "cell_type": "markdown",
      "source": [
        "### 6. Resultados"
      ],
      "metadata": {
        "id": "qdYAwC1v0SNH"
      }
    },
    {
      "cell_type": "code",
      "source": [],
      "metadata": {
        "id": "_zzXwnwYzji8"
      },
      "execution_count": null,
      "outputs": []
    }
  ]
}