{
  "nbformat": 4,
  "nbformat_minor": 0,
  "metadata": {
    "colab": {
      "provenance": [],
      "authorship_tag": "ABX9TyP3Hhc8NzEEjYpl61Pkuv5Y",
      "include_colab_link": true
    },
    "kernelspec": {
      "name": "python3",
      "display_name": "Python 3"
    },
    "language_info": {
      "name": "python"
    }
  },
  "cells": [
    {
      "cell_type": "markdown",
      "metadata": {
        "id": "view-in-github",
        "colab_type": "text"
      },
      "source": [
        "<a href=\"https://colab.research.google.com/github/GonzaMartinezRoman/CursoCoderIApromptsGMR/blob/main/GetHired!-Proyecto%20final-CHpromptIA-GMR.ipynb\" target=\"_parent\"><img src=\"https://colab.research.google.com/assets/colab-badge.svg\" alt=\"Open In Colab\"/></a>"
      ]
    },
    {
      "cell_type": "markdown",
      "source": [
        "# **Proyecto final: Get Hired!**\n",
        "*Aumenta tus posibilidades de ser seleccionado adaptando tu CV a los requisitos de la búsqueda.*\n"
      ],
      "metadata": {
        "id": "0Ny02sLbeNw2"
      }
    },
    {
      "cell_type": "markdown",
      "source": [
        "**Autor**: Gonzalo José Martinez Roman\n",
        "\n",
        "**Curso**: Inteligencia Artificial: Generación de prompts\n",
        "\n",
        "**Comisión** #: 67105"
      ],
      "metadata": {
        "id": "A6YUpTSKk_2b"
      }
    },
    {
      "cell_type": "markdown",
      "source": [
        "# Presentación del problema\n",
        "\n",
        "Este proyecto busca revolucionar la forma en que se crean y evalúan los currículums, mediante el desarrollo de una herramienta llamada **Get Hired!**. Esta herramienta utiliza los modelos de lenguaje avanzados **Gemini** y **DALL-E** para crear un **CVs** personalizado que se adapte a las necesidades específicas de una oferta de trabajo.\n",
        "\n",
        "**Get Hired!** analiza la oferta de empleo, identifica las habilidades y experiencias relevantes del candidato y las presenta de forma concisa y atractiva, incluyendo una imagen de marca personal generada por **IA**. De esta manera, los candidatos aumentan sus posibilidades de ser seleccionados, mientras que las empresas pueden optimizar su proceso de reclutamiento encontrando candidatos más adecuados a sus necesidades."
      ],
      "metadata": {
        "id": "0RWPAigJlfsW"
      }
    },
    {
      "cell_type": "markdown",
      "source": [
        "## Índice\n",
        "\n",
        "\n",
        "1. Introducción\n",
        "2. Objetivos\n",
        "3. Metodología\n",
        "4. Herramientas y Tecnologías\n",
        "5. Implementación\n",
        "6. Resultados"
      ],
      "metadata": {
        "id": "8Is1k4GrmhLB"
      }
    },
    {
      "cell_type": "markdown",
      "source": [
        "### 1. Introducción\n",
        "Un CV a medida de la búsqueda de empleo potencia las posibilidades de un candidato de ser considerado para el puesto deseado. Get hired! tiene la finalidad de facilitar la adaptación de su CV dinámicamente y con un menor esfuerzo y así responder rápidamente a distintos perfiles de búsqueda.   \n"
      ],
      "metadata": {
        "id": "tEq5qG4onM9v"
      }
    },
    {
      "cell_type": "markdown",
      "source": [
        "### 2. Objetivos\n",
        "- Crear una aplicación capaz de interactura con el Usuario solicitandole datos de entrada respecto a su experiencia y a la descripción del puesto al que quiere aplicar.\n",
        "- Lograr que la apliación interprete mediante **Gemini**  de **Google** los requisitos del puesto y aquellas características del postulante relacionadas con estos.\n",
        "- Entregar un reporte con las características del postulante afines al puesto para que las incluya estrategicamente en su CV.\n",
        "- Generar una imagen de marca personal mediante **DALL-E** de **OpenAi** que represente el perfil del postulante y que pueda inlcuìr en el CV para captar la atención de los reclutadores."
      ],
      "metadata": {
        "id": "CYpgty2Jwr8p"
      }
    },
    {
      "cell_type": "markdown",
      "source": [
        "### 3. Metodología\n",
        "1. El Usuario  carga su información en las siguientes secciones:\n",
        "- Formación académica.\n",
        "- Experiencia laboral.\n",
        "- Logros.\n",
        "- Habilidades.\n",
        "- Cursos.\n",
        "- Hobbies.\n",
        "2. El Usuario carga el texto de la búsqueda de empleo a la cual quiere adaptar su CV, tomado desde un portal de empleo u otra fuente en la que se haya publicado. **Get Hired!** analiza el texto de la publicación de empleo y:\n",
        "- Identifica las palabras clave y habilidades más importantes mencionadas en la descripción del puesto.\n",
        "- Identifica requisitos específicos en cuanto a formación.\n",
        "- Identifica logros o resultados específicos deseados en el postulante.\n",
        "\n",
        "A partir del resultado anterior Get Hired! busca y selecciona entre los datos del Usuario aquellos más relevantes para la búsqueda de empleo indicada en 2. entregando un reporte con los siguientes apartados:\n",
        "Análisis de la búsqueda.\n",
        "Sobre mí.\n",
        "Formación.\n",
        "Experiencia.\n",
        "Habilidades.\n",
        "Intereses personales.\n",
        "% de afinidad\n",
        "\n",
        "La descripción de cada apartado es la siguiente:\n",
        "**Análisis de la búsqueda:** Este apartado resume el nombre de la posición a la que refiere la búsqueda, lista las palabras clave, requisitos de formación y los logros requeridos para ese trabajo.\n",
        "Datos personales y de contacto: Este apartado es siempre el mismo independientemente de la búsqueda de empleo ya que son los datos mínimos para identificar y contactar al postulante.\n",
        "\n",
        "**Sobre mi**: Este apartado está compuesto de un párrafo corto donde se destacan los conocimientos y experiencia del postulante más relevantes para el puesto, haciendo un énfasis especial en los logros relacionados con la posición. Este párrafo es esencial y tiene el objetivo de llamar la atención del equipo de selección. (incluir ejemplos en el prompt final como modelo)\n",
        "\n",
        "**Formación:** Este apartado lista en forma ordenada los titulos académicos del postulante relacionados con la búsqueda. Excluye aquellos que no agregan valor para la postulación.\n",
        "\n",
        "**Experiencia:** Este apartado lista en forma ordenada las experiencias en empleos anteriores del postulante relacionadas con la búsqueda. Excluye aquellas que no agregan valor para la postulación.\n",
        "Habilidades: Este apartado recopila habilidades adquiridas por el postulante relacionadas con la búsqueda. Excluye las aquellas que no agregan valor para la postulación.\n",
        "\n",
        "**Intereses personales:** Este apartado retrata en forma más personal al postulante listando gustos y hobbies que destaquen su personalidad fuera del ámbito laboral.\n",
        "\n",
        "**% de afinidad:** En este apartado se evalua la propuesta de CV optimizado para la búsqueda contra el análisis inicial asignando un puntaje de 0 a 100% en función de la finidad del candidato con las palabras clave, formaciòn y logros especìficos requeridos de la posición a cubrir.\n",
        "\n",
        "3. **Get Hired!** crea una imagen de marca personal basada en el resultado anterior para que el CV del postulante destaque frente a los reclutadores.\n",
        "\n",
        "4. El Usuario utiliza el reporte y la imagen de marca personal generados por **Get Hired!** para crear un CV utilizando una plantilla de Canva, Google Docs u otra aplicación que sea de su conveniencia y se postula cargando el CV **a medida** para la posición… y a prepararse para esa entrevista!"
      ],
      "metadata": {
        "id": "u9P982Hyzgm3"
      }
    },
    {
      "cell_type": "markdown",
      "source": [
        "### 4. Herramientas y Tecnologías\n",
        "1. Google Colab + Python + GitHub\n",
        "2. Python\n",
        "3. gemini-1.5-flash (texto-texto)\n",
        "4. DALL-E (texto-imagen)"
      ],
      "metadata": {
        "id": "G_pmSNGp0Ib4"
      }
    },
    {
      "cell_type": "markdown",
      "source": [
        "### 5. Implementación"
      ],
      "metadata": {
        "id": "oO6Mxw-70OHY"
      }
    },
    {
      "cell_type": "code",
      "source": [
        "#Install from PyPI.\n",
        "#!pip install -U google-generativeai #ya instalado\n",
        "#!pip install openai==0.28 #ya instalado\n",
        "#!pip install Pillow"
      ],
      "metadata": {
        "id": "NRw_ouZouh5G"
      },
      "execution_count": null,
      "outputs": []
    },
    {
      "cell_type": "code",
      "source": [
        "# Importación de bibliotecas\n",
        "# Uso general\n",
        "import os\n",
        "import re\n",
        "import requests\n",
        "import json\n",
        "from io import BytesIO\n",
        "from PIL import Image\n",
        "from google.colab import userdata  # Para usar API keys desde Google Colab Secrets\n",
        "\n",
        "# Google Generative AI y configuración de API KEY\n",
        "import google.generativeai as genai\n",
        "\n",
        "# Configurar la clave API para Google Gemini (Generative AI)\n",
        "os.environ[\"GEMINI_API_KEY\"] = userdata.get('GEMINI_API_KEY')  # Obtener clave desde Colab Secrets\n",
        "genai.configure(api_key=os.environ[\"GEMINI_API_KEY\"])  # Configurar la API de Google Generative AI\n",
        "\n",
        "# OpenAI y configuración de API KEY\n",
        "import openai\n",
        "\n",
        "# Configurar la clave API para OpenAI\n",
        "os.environ[\"OPENAI_API_KEY\"] = userdata.get('OPENAI_API_KEY')  # Obtener clave desde Colab Secrets\n",
        "openai.api_key = os.environ[\"OPENAI_API_KEY\"]  # Asignar clave API de OpenAI a la variable api_key"
      ],
      "metadata": {
        "collapsed": true,
        "id": "VFH8ojVPuo9y"
      },
      "execution_count": 8,
      "outputs": []
    },
    {
      "cell_type": "code",
      "source": [
        "#Solicitar al Usuario que cargue su información profesional y la almacena en un diccionario.\n",
        "def procesar_texto(texto):\n",
        "    informacion_usuario = {}\n",
        "    categorias = [\"Formación académica\", \"Experiencia laboral\", \"Logros\", \"Habilidades\", \"Cursos\", \"Hobbies\"]\n",
        "\n",
        "    # Expresión regular más flexible para detectar categorías\n",
        "    secciones = re.split(r\"(?i)(\" + \"|\".join([c + r\":?\" for c in categorias]) + r\")\", texto)\n",
        "    secciones = [s.strip() for s in secciones if s.strip()]\n",
        "\n",
        "    # Extraer información de cada sección\n",
        "    for i in range(0, len(secciones), 2):\n",
        "        categoria = secciones[i][:-1] if secciones[i].endswith(':') else secciones[i]\n",
        "        contenido = secciones[i + 1] if i + 1 < len(secciones) else \"No se proporcionó información.\"\n",
        "        informacion_usuario[categoria] = contenido.strip()\n",
        "\n",
        "    return informacion_usuario\n",
        "\n",
        "# Obtener la información del usuario\n",
        "postulante_de_prueba = '''\n",
        "Formación académica:\n",
        "Magíster en Ciencia y tecnología de Materiales: Instituto de Tecnología Sabato UNSAM - CNEA (2019)\n",
        "Ingeniero Mecánico: Universidad Nacional del Comahue (2014)\n",
        "Experiencia laboral:\n",
        "Analista de Master Data: YPF S.A. (2022 - Actualidad)\n",
        "Ingeniero Catalogador: Sistemas de Catalogación S.R.L. (2019 - 2022)\n",
        "Ingeniero de análisis de falla/materiales: INVAP Ingeniería S.A. (2014 - 2017)\n",
        "Logros:\n",
        "Contribución significativa a la seguridad operativa y a la eficiencia de los procesos de abastecimiento en el sector energético (Oil&Gas).\n",
        "Habilidades:\n",
        "Metodologías Ágiles\n",
        "SAP MM, MDG, PowerBi, Copilot.\n",
        "Normas ASME, API, ASTM, MSS.\n",
        "Caracterización mecánica de materiales. Integridad estructural.\n",
        "Procesos de la cadena de sumistro: catalogación, almacenes, inspección, proveedores, compras.\n",
        "Cursos:\n",
        "No se mencionan cursos específicos.\n",
        "Hobbies:\n",
        "Buceo recreativo.\n",
        "Natación.\n",
        "Entrenamiento funcional.\n",
        "Aeromodelismo.\n",
        "'''\n",
        "#texto = input(\"Pega aquí la información de tu carrera profesional considerando las categorías: Formación académica, Experiencia laboral, Logros, Habilidades, Cursos, Hobbies \")\n",
        "texto = postulante_de_prueba\n",
        "\n",
        "# Procesar el texto y manejar errores si una categoría falta\n",
        "informacion_usuario = procesar_texto(texto)\n",
        "\n",
        "# Convertir a JSON\n",
        "json_usuario = json.dumps(informacion_usuario, ensure_ascii=False, indent=4)\n",
        "\n",
        "# Mostrar el resultado en formato JSON\n",
        "print(json_usuario)\n"
      ],
      "metadata": {
        "id": "SvAOu6II416A",
        "outputId": "c78c7bae-fd51-4134-a0d9-31a240b31091",
        "colab": {
          "base_uri": "https://localhost:8080/"
        }
      },
      "execution_count": 26,
      "outputs": [
        {
          "output_type": "stream",
          "name": "stdout",
          "text": [
            "{\n",
            "    \"Formación académica\": \"Magíster en Ciencia y tecnología de Materiales: Instituto de Tecnología Sabato UNSAM - CNEA (2019)\\nIngeniero Mecánico: Universidad Nacional del Comahue (2014)\",\n",
            "    \"Experiencia laboral\": \"Analista de Master Data: YPF S.A. (2022 - Actualidad)\\nIngeniero Catalogador: Sistemas de Catalogación S.R.L. (2019 - 2022)\\nIngeniero de análisis de falla/materiales: INVAP Ingeniería S.A. (2014 - 2017)\",\n",
            "    \"Logros\": \"Contribución significativa a la seguridad operativa y a la eficiencia de los procesos de abastecimiento en el sector energético (Oil&Gas).\",\n",
            "    \"Habilidades\": \"Metodologías Ágiles\\nSAP MM, MDG, PowerBi, Copilot.\\nNormas ASME, API, ASTM, MSS.\\nCaracterización mecánica de materiales. Integridad estructural.\\nProcesos de la cadena de sumistro: catalogación, almacenes, inspección, proveedores, compras.\",\n",
            "    \"Cursos\": \"No se mencionan\",\n",
            "    \"cursos\": \"específicos.\",\n",
            "    \"Hobbies\": \"Buceo recreativo.\\nNatación.\\nEntrenamiento funcional.\\nAeromodelismo.\"\n",
            "}\n"
          ]
        }
      ]
    },
    {
      "cell_type": "code",
      "source": [
        "# Solicitar el texto de la oferta laboral\n",
        "def procesar_oferta(texto_oferta):\n",
        "    informacion_oferta = {}\n",
        "    categorias = [\"Título\", \"Descripción\", \"Responsabilidades\", \"Requisitos\", \"Ofrecemos\"]\n",
        "\n",
        "    # Expresión regular para detectar categorías\n",
        "    secciones = re.split(r\"(?i)(\" + \"|\".join([c + r\":?\" for c in categorias]) + r\")\", texto_oferta)\n",
        "    secciones = [s.strip() for s in secciones if s.strip()]\n",
        "\n",
        "    # Extraer información de cada sección\n",
        "    for i in range(0, len(secciones), 2):\n",
        "        categoria = secciones[i][:-1] if secciones[i].endswith(':') else secciones[i]\n",
        "        contenido = secciones[i + 1] if i + 1 < len(secciones) else \"No se proporcionó información.\"\n",
        "        informacion_oferta[categoria] = contenido.strip()\n",
        "\n",
        "    return informacion_oferta\n",
        "\n",
        "# Texto de la oferta\n",
        "oferta_de_prueba = '''\n",
        "Título:\n",
        "Ingeniero Mecánico Equipos Rotativos\n",
        "Descripción:\n",
        "Técnicas Reunidas Group (TR) es una compañía Internacional de Ingeniería y Construcción lider del sector Oil&Gas, especializada en el diseño, construcción y dirección de ejecución de plantas industriales a nivel mundial. También, participamos en proyectos relacionados con hidrógeno, biomasa, biocombustibles, descarbonización, inteligencia artificial y digitalización.\n",
        "El crecimiento sostenible, la descarbonización y la transición energética, son los conceptos que representan nuestra cultura.\n",
        "Nuestro alto nivel de profesionalismo y compromiso nos impulsa a una investigación permanente para mejorar la eficiencia y la sostenibilidad y siempre con un riguroso cumplimiento de la ley y alineados con los más altos estándares éticos.\n",
        "En Técnicas Reunidas buscamos sumar Ingenieros Mecánicos con experiencia en equipos rotativos para radicarse en España.\n",
        "Responsabilidades:\n",
        "El cumplimiento de objetivos en calidad y tiempo.\n",
        "Fijar criterios de diseño.\n",
        "Cálculos, estudios, especificaciones técnicas de equipos rotativos.\n",
        "Requisiciones para petición de ofertas, tabulaciones técnicas y pedidos de equipos rotativos y sus auxiliares.\n",
        "Informes técnicos de avance. Análisis de fallas.\n",
        "Revisar los planos de suministradores.\n",
        "Apoyo en obra.\n",
        "Colaborar en las inspecciones, pruebas y ensayos necesarios, de acuerdo con lo requerido en las especificaciones y códigos aplicables.\n",
        "Conocer y aplicar toda la documentación y los procedimientos existentes, tanto referentes a los procedimientos propios de su departamento o área de gestión, como los documentos o procedimientos corporativos que sean de aplicación.\n",
        "Comprobar, si es requerido, los cálculos de los suministradores.\n",
        "Requisitos:\n",
        "Titulación en Ingeniería Mecánica.\n",
        "Experiencia de 10 años en la industria Oil&Gas.\n",
        "Experiencia no menor a 8 años en equipos rotativos (Turbinas, sellos, bombas, compresores).\n",
        "Nivel intermedio de inglés.\n",
        "Disponibilidad para viajar.\n",
        "Disponibilidad para radicarse en Madrid - España.\n",
        "Conocimientos informáticos propios de uso en el área de mecánica.\n",
        "Ciudadanía de la Comunidad Europea (No excluyente).\n",
        "Ofrecemos:\n",
        "Contrato indefinido.\n",
        "Desarrollo Profesional.\n",
        "Ambiente internacional y multicultural.\n",
        "'''\n",
        "# texto_oferta = input(\"Pega aquí el texto de la oferta laboral: \")\n",
        "texto_oferta = oferta_de_prueba\n",
        "\n",
        "# Procesar la oferta y manejar secciones faltantes\n",
        "informacion_oferta = procesar_oferta(texto_oferta)\n",
        "\n",
        "# Convertir a JSON\n",
        "json_oferta = json.dumps(informacion_oferta, ensure_ascii=False, indent=4)\n",
        "\n",
        "# Mostrar el resultado en formato JSON\n",
        "print(json_oferta)"
      ],
      "metadata": {
        "colab": {
          "base_uri": "https://localhost:8080/"
        },
        "id": "xT6IxW81WO4D",
        "outputId": "4d413918-432a-4688-eb42-2207e6529cbf"
      },
      "execution_count": 28,
      "outputs": [
        {
          "output_type": "stream",
          "name": "stdout",
          "text": [
            "{\n",
            "    \"Título\": \"Ingeniero Mecánico Equipos Rotativos\",\n",
            "    \"Descripción\": \"Técnicas Reunidas Group (TR) es una compañía Internacional de Ingeniería y Construcción lider del sector Oil&Gas, especializada en el diseño, construcción y dirección de ejecución de plantas industriales a nivel mundial. También, participamos en proyectos relacionados con hidrógeno, biomasa, biocombustibles, descarbonización, inteligencia artificial y digitalización.\\nEl crecimiento sostenible, la descarbonización y la transición energética, son los conceptos que representan nuestra cultura.\\nNuestro alto nivel de profesionalismo y compromiso nos impulsa a una investigación permanente para mejorar la eficiencia y la sostenibilidad y siempre con un riguroso cumplimiento de la ley y alineados con los más altos estándares éticos.\\nEn Técnicas Reunidas buscamos sumar Ingenieros Mecánicos con experiencia en equipos rotativos para radicarse en España.\",\n",
            "    \"Responsabilidades\": \"El cumplimiento de objetivos en calidad y tiempo.\\nFijar criterios de diseño.\\nCálculos, estudios, especificaciones técnicas de equipos rotativos.\\nRequisiciones para petición de ofertas, tabulaciones técnicas y pedidos de equipos rotativos y sus auxiliares.\\nInformes técnicos de avance. Análisis de fallas.\\nRevisar los planos de suministradores.\\nApoyo en obra.\\nColaborar en las inspecciones, pruebas y ensayos necesarios, de acuerdo con lo requerido en las especificaciones y códigos aplicables.\\nConocer y aplicar toda la documentación y los procedimientos existentes, tanto referentes a los procedimientos propios de su departamento o área de gestión, como los documentos o procedimientos corporativos que sean de aplicación.\\nComprobar, si es requerido, los cálculos de los suministradores.\",\n",
            "    \"Requisitos\": \"Titulación en Ingeniería Mecánica.\\nExperiencia de 10 años en la industria Oil&Gas.\\nExperiencia no menor a 8 años en equipos rotativos (Turbinas, sellos, bombas, compresores).\\nNivel intermedio de inglés.\\nDisponibilidad para viajar.\\nDisponibilidad para radicarse en Madrid - España.\\nConocimientos informáticos propios de uso en el área de mecánica.\\nCiudadanía de la Comunidad Europea (No excluyente).\",\n",
            "    \"Ofrecemos\": \"Contrato indefinido.\\nDesarrollo Profesional.\\nAmbiente internacional y multicultural.\"\n",
            "}\n"
          ]
        }
      ]
    },
    {
      "cell_type": "code",
      "source": [
        "# Define el prompt con la información de las variables\n",
        "prompt = f\"\"\"\n",
        "Eres un especialista en selección de personal. Tu misión es ayudar a un postulante a maximizar sus posibilidades\n",
        "de ser seleccionado por un reclutador. Para ello, analiza la información del postulante {informacion_usuario} y la oferta laboral\n",
        "a la cual quiere aplicar {informacion_oferta} y realiza las tareas descriptas más abajo.\n",
        "\n",
        "1. **Analiza la búsqueda de empleo:**\n",
        "    * Identifica el nombre de la posición buscada.\n",
        "    * Extrae las palabras clave y habilidades más importantes mencionadas.\n",
        "    * Determina los requisitos específicos en cuanto a formación académica.\n",
        "    * Identifica los logros o resultados específicos que se buscan en el postulante.\n",
        "\n",
        "2. **Analiza la información del postulante:**\n",
        "    * Selecciona y lista únicamente la información relevante para la búsqueda en función del análisis realizado en el paso anterior, organizándola en los siguientes apartados:\n",
        "        * Formación académica\n",
        "        * Experiencia laboral\n",
        "        * Logros\n",
        "        * Habilidades\n",
        "        * Cursos\n",
        "        * Hobbies\n",
        "\n",
        "3. **Genera un reporte con la siguiente estructura:**\n",
        "\n",
        "    * **Análisis de la búsqueda:**\n",
        "        * Nombre del puesto: [Nombre del puesto]\n",
        "        * Palabras clave: [Lista de palabras clave]\n",
        "        * Habilidades: [Lista de habilidades]\n",
        "        * Requisitos de formación: [Requisitos de formación]\n",
        "        * Logros deseados: [Logros deseados]\n",
        "\n",
        "    * **Sobre mí:**\n",
        "        * [Un breve resumen del postulante y sus objetivos profesionales, destacando su alineación con la posición buscada]\n",
        "\n",
        "    * **Formación:**\n",
        "        * [Información relevante sobre la formación académica del postulante]\n",
        "\n",
        "    * **Experiencia:**\n",
        "        * [Información relevante sobre la experiencia laboral del postulante]\n",
        "\n",
        "    * **Habilidades:**\n",
        "        * [Lista de habilidades relevantes del postulante]\n",
        "\n",
        "    * **Intereses personales:**\n",
        "        * [Hobbies e intereses relevantes del postulante que puedan ser de interés para el reclutador]\n",
        "\n",
        "    * **% de afinidad:**\n",
        "        * [Un porcentaje que indique la afinidad entre el perfil del postulante y los requisitos del puesto, basado en tu análisis]\n",
        "\n",
        "**Ejemplo:**\n",
        "\n",
        "Si la oferta de trabajo busca un \"Ingeniero de Software con experiencia en Python y desarrollo web\", el reporte debería destacar la experiencia del postulante en Python y desarrollo web, así como cualquier proyecto o logro relacionado.\n",
        "\n",
        "**Recuerda:**\n",
        "* Es muy importante que en tu reporte solo incluyas la información relevante para la oferta cargada por el usuario, excluye todo lo irrelevante y destaca lo relevante sin inventar información.\n",
        "* El objetivo es presentar la información del postulante de la manera más relevante y atractiva para el reclutador, destacando las coincidencias con la oferta de trabajo.\n",
        "* El porcentaje de afinidad debe ser una estimación basada en tu análisis, no un cálculo exacto.\n",
        "* Asegúrate de que el reporte sea claro, conciso y fácil de leer.\n",
        "\"\"\"\n",
        "\n",
        "# Crea el modelo\n",
        "model = genai.GenerativeModel('gemini-1.5-flash')\n",
        "\n",
        "# Genera la respuesta\n",
        "response = model.generate_content(prompt)\n",
        "\n",
        "# Imprime la respuesta\n",
        "print(response.text)"
      ],
      "metadata": {
        "colab": {
          "base_uri": "https://localhost:8080/",
          "height": 984
        },
        "id": "UgACvPuXvn0J",
        "outputId": "496826d1-1dd0-41bf-ceb9-162fa5a6b1c1"
      },
      "execution_count": null,
      "outputs": [
        {
          "output_type": "stream",
          "name": "stdout",
          "text": [
            "## Reporte de Afinidad para Postulante\n",
            "\n",
            "**Análisis de la búsqueda:**\n",
            "\n",
            "* **Nombre del puesto:** Ingeniero Mecánico Experto en Equipos Rotativos\n",
            "* **Palabras clave:** Ingeniería Mecánica, Oil&Gas, Equipos Rotativos (Turbinas, sellos, bombas, compresores), Diseño, Cálculos, Especificaciones Técnicas, Requisiciones, Tabulaciones, Informes Técnicos, Análisis de Fallas, Planos, Inspecciones, Pruebas, Ensayos, Códigos aplicables, Procedimientos, Inglés, Disponibilidad para viajar, Disponibilidad para radicarse en Madrid - España.\n",
            "* **Habilidades:** Diseño de equipos rotativos, cálculo, especificación técnica, requisición, análisis de fallas, interpretación de planos, inspección, pruebas y ensayos. \n",
            "* **Requisitos de formación:** Titulación en Ingeniería Mecánica.\n",
            "* **Logros deseados:** Experiencia comprobable en diseño, cálculo y análisis de equipos rotativos, específicamente en el sector Oil&Gas.\n",
            "\n",
            "**Sobre mí:**\n",
            "\n",
            "Soy un ingeniero mecánico con una sólida formación académica y experiencia comprobable en el sector Oil&Gas, con particular énfasis en el análisis de materiales y la gestión de la cadena de suministro. Me apasiona la ingeniería aplicada al ámbito industrial y busco un puesto desafiante que me permita crecer profesionalmente en un ambiente internacional y multicultural.\n",
            "\n",
            "**Formación:**\n",
            "\n",
            "* Magíster en Ciencia y tecnología de Materiales: Instituto de Tecnología Sabato UNSAM - CNEA (2019)\n",
            "* Ingeniero Mecánico: Universidad Nacional del Comahue (2014)\n",
            "\n",
            "**Experiencia:**\n",
            "\n",
            "* Analista de Master Data: YPF S.A. (2022 - Actualidad): Experiencia en gestión de datos maestros, procesos de compras,  y control de stock.\n",
            "* Ingeniero Catalogador: Sistemas de Catalogación S.R.L. (2019 - 2022): Experiencia en la gestión de la cadena de suministro, incluyendo catalogación,  almacenes, inspección, proveedores, y compras.\n",
            "* Ingeniero de análisis de falla/materiales: INVAP Ingeniería S.A. (2014 - 2017): Experiencia en análisis de fallas y caracterización mecánica de materiales, relevantes para la integridad estructural.\n",
            "\n",
            "**Habilidades:**\n",
            "\n",
            "* Caracterización mecánica de materiales. Integridad estructural.\n",
            "* Normas ASME, API, ASTM, MSS.\n",
            "* Procesos de la cadena de suministro: catalogación, almacenes, inspección, proveedores, compras.\n",
            "* SAP MM, MDG, PowerBi, Copilot.\n",
            "* Metodologías Ágiles.\n",
            "* (No se menciona experiencia con equipos rotativos).\n",
            "\n",
            "**Intereses personales:**\n",
            "\n",
            "* Buceo recreativo\n",
            "* Natación\n",
            "* Entrenamiento funcional\n",
            "* Aeromodelismo\n",
            "\n",
            "**% de afinidad:**\n",
            "\n",
            "60%\n",
            "\n",
            "**Justificación:**\n",
            "\n",
            "El postulante cumple con los requisitos de formación (Ingeniería Mecánica) y posee experiencia relevante en el sector Oil&Gas. Sin embargo, no se evidencia experiencia específica en equipos rotativos (turbinas, sellos, bombas, compresores) según lo especificado en la oferta. Las habilidades en procesos de la cadena de suministro y gestión de datos podrían ser valorables para el puesto, pero no son centrales. La disponibilidad para viajar y radicarse en España es un factor positivo.  \n",
            "\n",
            "**Recomendación:**\n",
            "\n",
            "El postulante debería destacar en su carta de presentación y CV la experiencia en análisis de materiales y la gestión de la cadena de suministro, argumentando cómo estas habilidades podrían ser relevantes para el puesto. Es recomendable que se prepare para responder preguntas sobre su conocimiento de equipos rotativos y busque oportunidades para adquirir experiencia práctica en este área.  \n",
            "\n"
          ]
        }
      ]
    },
    {
      "cell_type": "markdown",
      "source": [
        "### 6. Resultados"
      ],
      "metadata": {
        "id": "qdYAwC1v0SNH"
      }
    },
    {
      "cell_type": "code",
      "source": [],
      "metadata": {
        "id": "_zzXwnwYzji8"
      },
      "execution_count": null,
      "outputs": []
    }
  ]
}