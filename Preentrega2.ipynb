{
  "nbformat": 4,
  "nbformat_minor": 0,
  "metadata": {
    "colab": {
      "provenance": [],
      "authorship_tag": "ABX9TyMIakmrxB7EkX1d+54SE8XN",
      "include_colab_link": true
    },
    "kernelspec": {
      "name": "python3",
      "display_name": "Python 3"
    },
    "language_info": {
      "name": "python"
    }
  },
  "cells": [
    {
      "cell_type": "markdown",
      "metadata": {
        "id": "view-in-github",
        "colab_type": "text"
      },
      "source": [
        "<a href=\"https://colab.research.google.com/github/GonzaMartinezRoman/CursoCoderIApromptsGMR/blob/main/Preentrega2.ipynb\" target=\"_parent\"><img src=\"https://colab.research.google.com/assets/colab-badge.svg\" alt=\"Open In Colab\"/></a>"
      ]
    },
    {
      "cell_type": "markdown",
      "source": [
        "# **Proyecto final: Get Hired!**\n",
        "*Aumenta tus posibilidades de ser seleccionado adaptando tu CV a los requisitos de la búsqueda.*\n"
      ],
      "metadata": {
        "id": "0Ny02sLbeNw2"
      }
    },
    {
      "cell_type": "markdown",
      "source": [
        "**Autor**: Gonzalo José Martinez Roman\n",
        "\n",
        "**Curso**: Inteligencia Artificial: Generación de prompts\n",
        "\n",
        "**Comisión** #: 67105"
      ],
      "metadata": {
        "id": "A6YUpTSKk_2b"
      }
    },
    {
      "cell_type": "markdown",
      "source": [
        "# Presentación del problema\n",
        "\n",
        "Este proyecto busca revolucionar la forma en que se crean y evalúan los currículums, mediante el desarrollo de una herramienta llamada **Get Hired!**. Esta herramienta utiliza modelos de lenguaje avanzados **como GPT-3.5**, **DALL-E** y **Gemini** para crear **CVs** personalizados que se adapten a las necesidades específicas de cada oferta de trabajo.\n",
        "\n",
        "**Get Hired!** analiza la oferta de empleo, identifica las habilidades y experiencias relevantes del candidato y las presenta de forma concisa y atractiva, incluyendo una imagen de marca personal generada por **IA**. De esta manera, los candidatos aumentan sus posibilidades de ser seleccionados, mientras que las empresas pueden optimizar su proceso de reclutamiento encontrando candidatos más adecuados a sus necesidades.\n",
        "\n"
      ],
      "metadata": {
        "id": "0RWPAigJlfsW"
      }
    },
    {
      "cell_type": "markdown",
      "source": [
        "## Índice\n",
        "\n",
        "\n",
        "1. Introducción\n",
        "2. Objetivos\n",
        "3. Metodología\n",
        "4. Herramientas y Tecnologías\n",
        "5. Implementación\n",
        "6. Resultados"
      ],
      "metadata": {
        "id": "8Is1k4GrmhLB"
      }
    },
    {
      "cell_type": "markdown",
      "source": [
        "### 1. Introducción\n",
        "Un CV a medida de la búsqueda de empleo potencia las posibilidades de un candidato de ser considerado para el puesto deseado. Get hired! tiene la finalidad de facilitar la adaptación de su CV dinámicamente y con un menor esfuerzo y así responder rápidamente a distintos perfiles de búsqueda.   \n"
      ],
      "metadata": {
        "id": "tEq5qG4onM9v"
      }
    },
    {
      "cell_type": "markdown",
      "source": [
        "### 2. Objetivos\n",
        "- Crear una aplicación capaz de interactura con el Usuario solicitandole datos de entrada respecto a su experiencia y a la descripción del puesto al que quiere aplicar.\n",
        "- Lograr que la apliación interprete mediante el uso de **Gemini** los requisitos del puesto y aquellas características del postulante relacionadas con estos.\n",
        "- Entregar un reporte con las características del postulante afines al puesto para que las incluya estrategicamente en su CV.\n",
        "- Generar una imagen de marca personal mediante el modelo **MODELO DE IMAGEN** que representa al postulante y llame la atención de los reclutadores."
      ],
      "metadata": {
        "id": "CYpgty2Jwr8p"
      }
    },
    {
      "cell_type": "markdown",
      "source": [
        "### 3. Metodología\n",
        "1. El Usuario  carga su información en las siguientes secciones:\n",
        "- Datos personales y de contacto.\n",
        "- Formación académica.\n",
        "- Experiencia laboral.\n",
        "- Logros.\n",
        "- Habilidades.\n",
        "- Cursos.\n",
        "- Hobbies.\n",
        "2. El Usuario carga el texto de la búsqueda de empleo a la cual quiere adaptar su CV, tomado desde un portal de empleo u otra fuente en la que se haya publicado. **Get Hired!** analiza el texto de la publicación de empleo y:\n",
        "- Identifica las palabras clave y habilidades más importantes mencionadas en la descripción del puesto.\n",
        "- Identifica requisitos específicos en cuanto a formación.\n",
        "- Identifica logros o resultados específicos deseados en el postulante.\n",
        "\n",
        "A partir del resultado anterior Get Hired! busca y selecciona entre los datos del Usuario aquellos más relevantes para la búsqueda de empleo indicada en 2. entregando un reporte con los siguientes apartados:\n",
        "Análisis de la búsqueda.\n",
        "Datos personales y de contacto.\n",
        "Sobre mí.\n",
        "Formación.\n",
        "Experiencia.\n",
        "Habilidades.\n",
        "Intereses personales.\n",
        "% de afinidad\n",
        "\n",
        "La descripción de cada apartado es la siguiente:\n",
        "**Análisis de la búsqueda:** Este apartado resume el nombre de la posición a la que refiere la búsqueda, lista las palabras clave, requisitos de formación y los logros requeridos para ese trabajo.\n",
        "Datos personales y de contacto: Este apartado es siempre el mismo independientemente de la búsqueda de empleo ya que son los datos mínimos para identificar y contactar al postulante.\n",
        "\n",
        "**Sobre mi**: Este apartado está compuesto de un párrafo corto donde se destacan los conocimientos y experiencia del postulante más relevantes para el puesto, haciendo un énfasis especial en los logros relacionados con la posición. Este párrafo es esencial y tiene el objetivo de llamar la atención del equipo de selección. (incluir ejemplos en el prompt final como modelo)\n",
        "\n",
        "**Formación:** Este apartado lista en forma ordenada los titulos académicos del postulante relacionados con la búsqueda. Excluye aquellos que no agregan valor para la postulación.\n",
        "\n",
        "**Experiencia:** Este apartado lista en forma ordenada las experiencias en empleos anteriores del postulante relacionadas con la búsqueda. Excluye aquellas que no agregan valor para la postulación.\n",
        "Habilidades: Este apartado recopila habilidades adquiridas por el postulante relacionadas con la búsqueda. Excluye las aquellas que no agregan valor para la postulación.\n",
        "\n",
        "**Intereses personales:** Este apartado retrata en forma más personal al postulante listando gustos y hobbies que destaquen su personalidad fuera del ámbito laboral.\n",
        "\n",
        "**% de afinidad:** En este apartado se evalua la propuesta de CV optimizado para la búsqueda contra el análisis inicial asignando un puntaje de 0 a 100% en función de la finidad del candidato con las palabras clave, formaciòn y logros especìficos requeridos de la posición a cubrir.\n",
        "\n",
        "3. **Get Hired!** crea una imagen de marca personal basada en el resultado anterior para que el CV del postulante destaque frente a los reclutadores.\n",
        "\n",
        "4. El Usuario utiliza el reporte y la imagen de marca personal generados por **Get Hired!** para crear un CV utilizando una plantilla de Canva, Google Docs u otra aplicación que sea de su conveniencia y se postula cargando el CV **a medida** para la posición… y a prepararse para esa entrevista!"
      ],
      "metadata": {
        "id": "u9P982Hyzgm3"
      }
    },
    {
      "cell_type": "markdown",
      "source": [
        "### 4. Herramientas y Tecnologías\n",
        "1. Google Colab + Python + GitHub\n",
        "2. Python\n",
        "3. gemini-1.5-flash"
      ],
      "metadata": {
        "id": "G_pmSNGp0Ib4"
      }
    },
    {
      "cell_type": "markdown",
      "source": [
        "### 5. Implementación"
      ],
      "metadata": {
        "id": "oO6Mxw-70OHY"
      }
    },
    {
      "cell_type": "code",
      "source": [
        "#Install from PyPI.\n",
        "#pip install -U google-generativeai #ya instalado"
      ],
      "metadata": {
        "id": "NRw_ouZouh5G"
      },
      "execution_count": null,
      "outputs": []
    },
    {
      "cell_type": "code",
      "source": [
        "\n",
        "#Import the SDK and configure your API key.\n",
        "\n",
        "import google.generativeai as genai\n",
        "import os\n",
        "\n",
        "genai.configure(api_key=os.environ[\"GEMINI_API_KEY\"])"
      ],
      "metadata": {
        "id": "VFH8ojVPuo9y"
      },
      "execution_count": null,
      "outputs": []
    },
    {
      "cell_type": "code",
      "source": [
        "#Create a model and run a prompt.\n",
        "model = genai.GenerativeModel('gemini-1.5-flash')\n",
        "response = model.generate_content(\"The opposite of hot is\")\n",
        "print(response.text)"
      ],
      "metadata": {
        "id": "UgACvPuXvn0J"
      },
      "execution_count": null,
      "outputs": []
    },
    {
      "cell_type": "markdown",
      "source": [
        "### 6. Resultados"
      ],
      "metadata": {
        "id": "qdYAwC1v0SNH"
      }
    },
    {
      "cell_type": "code",
      "source": [],
      "metadata": {
        "id": "_zzXwnwYzji8"
      },
      "execution_count": null,
      "outputs": []
    }
  ]
}