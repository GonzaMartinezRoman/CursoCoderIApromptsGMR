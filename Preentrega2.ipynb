{
  "nbformat": 4,
  "nbformat_minor": 0,
  "metadata": {
    "colab": {
      "provenance": [],
      "authorship_tag": "ABX9TyOZYBE+28uXd7D2zIylsi9d",
      "include_colab_link": true
    },
    "kernelspec": {
      "name": "python3",
      "display_name": "Python 3"
    },
    "language_info": {
      "name": "python"
    }
  },
  "cells": [
    {
      "cell_type": "markdown",
      "metadata": {
        "id": "view-in-github",
        "colab_type": "text"
      },
      "source": [
        "<a href=\"https://colab.research.google.com/github/GonzaMartinezRoman/CursoCoderIApromptsGMR/blob/main/Preentrega2.ipynb\" target=\"_parent\"><img src=\"https://colab.research.google.com/assets/colab-badge.svg\" alt=\"Open In Colab\"/></a>"
      ]
    },
    {
      "cell_type": "code",
      "execution_count": null,
      "metadata": {
        "id": "KRpRnYmEw9MQ"
      },
      "outputs": [],
      "source": []
    },
    {
      "cell_type": "markdown",
      "source": [
        "**Proyecto:**\n",
        "\n",
        "**Get Hired!**\n",
        "*Aumenta tus posibilidades de ser seleccionado adaptando tu CV a los requisitos de la búsqueda.*\n",
        "\n",
        "Autor: Gonzalo José Martinez Roman\n",
        "\n",
        "Curso: Inteligencia Artificial: Generación de prompts\n",
        "\n",
        "Comisión #: 67105\n"
      ],
      "metadata": {
        "id": "0Ny02sLbeNw2"
      }
    },
    {
      "cell_type": "code",
      "source": [],
      "metadata": {
        "id": "mpNwyrpbeRCI"
      },
      "execution_count": null,
      "outputs": []
    },
    {
      "cell_type": "markdown",
      "source": [],
      "metadata": {
        "id": "GSAfZoNpjKUj"
      }
    }
  ]
}