{
  "nbformat": 4,
  "nbformat_minor": 0,
  "metadata": {
    "colab": {
      "provenance": [],
      "authorship_tag": "ABX9TyMn3+UlL0jurqCeqTo6qT4w",
      "include_colab_link": true
    },
    "kernelspec": {
      "name": "python3",
      "display_name": "Python 3"
    },
    "language_info": {
      "name": "python"
    }
  },
  "cells": [
    {
      "cell_type": "markdown",
      "metadata": {
        "id": "view-in-github",
        "colab_type": "text"
      },
      "source": [
        "<a href=\"https://colab.research.google.com/github/GonzaMartinezRoman/CursoCoderIApromptsGMR/blob/main/Preentrega2.ipynb\" target=\"_parent\"><img src=\"https://colab.research.google.com/assets/colab-badge.svg\" alt=\"Open In Colab\"/></a>"
      ]
    },
    {
      "cell_type": "markdown",
      "source": [
        "# **Proyecto final: Get Hired!**\n",
        "*Aumenta tus posibilidades de ser seleccionado adaptando tu CV a los requisitos de la búsqueda.*\n"
      ],
      "metadata": {
        "id": "0Ny02sLbeNw2"
      }
    },
    {
      "cell_type": "markdown",
      "source": [
        "**Autor**: Gonzalo José Martinez Roman\n",
        "\n",
        "**Curso**: Inteligencia Artificial: Generación de prompts\n",
        "\n",
        "**Comisión** #: 67105"
      ],
      "metadata": {
        "id": "A6YUpTSKk_2b"
      }
    },
    {
      "cell_type": "markdown",
      "source": [
        "# Presentación del problema\n",
        "\n",
        "Este proyecto busca revolucionar la forma en que se crean y evalúan los currículums, mediante el desarrollo de una herramienta llamada **Get Hired!**. Esta herramienta utiliza modelos de lenguaje avanzados **como GPT-3.5**, **DALL-E** y **Gemini** para crear **CVs** personalizados que se adapten a las necesidades específicas de cada oferta de trabajo.\n",
        "\n",
        "**Get Hired!** analiza la oferta de empleo, identifica las habilidades y experiencias relevantes del candidato y las presenta de forma concisa y atractiva, incluyendo una imagen de marca personal generada por **IA**. De esta manera, los candidatos aumentan sus posibilidades de ser seleccionados, mientras que las empresas pueden optimizar su proceso de reclutamiento encontrando candidatos más adecuados a sus necesidades.\n",
        "\n"
      ],
      "metadata": {
        "id": "0RWPAigJlfsW"
      }
    },
    {
      "cell_type": "markdown",
      "source": [
        "## Índice\n",
        "\n",
        "\n",
        "1. Introducción\n",
        "2. Objetivos\n",
        "3. Metodología\n",
        "4. Herramientas y Tecnologías\n",
        "5. Implementación\n",
        "6. Resultados"
      ],
      "metadata": {
        "id": "8Is1k4GrmhLB"
      }
    },
    {
      "cell_type": "markdown",
      "source": [
        "### 1. Introducción\n",
        "Un CV a medida de la búsqueda de empleo potencia las posibilidades de un candidato de ser considerado para el puesto deseado. Get hired! tiene la finalidad de facilitar la adaptación de su CV dinámicamente y con un menor esfuerzo y así responder rápidamente a distintos perfiles de búsqueda.   \n"
      ],
      "metadata": {
        "id": "tEq5qG4onM9v"
      }
    },
    {
      "cell_type": "markdown",
      "source": [
        "### 2. Objetivos\n",
        "- Crear una aplicación capaz de interactura con el Usuario solicitandole datos de entrada respecto a su experiencia y a la descripción del puesto al que quiere aplicar.\n",
        "- Lograr que la apliación interprete mediante el uso de **Gemini** los requisitos del puesto y aquellas características del postulante relacionadas con estos.\n",
        "- Entregar un reporte con las características del postulante afines al puesto para que las incluya estrategicamente en su CV.\n",
        "- Generar una imagen de marca personal mediante el modelo **MODELO DE IMAGEN** que representa al postulante y llame la atención de los reclutadores."
      ],
      "metadata": {
        "id": "CYpgty2Jwr8p"
      }
    },
    {
      "cell_type": "markdown",
      "source": [
        "### 3. Metodología\n",
        "1. El Usuario  carga su información en las siguientes secciones:\n",
        "- Formación académica.\n",
        "- Experiencia laboral.\n",
        "- Logros.\n",
        "- Habilidades.\n",
        "- Cursos.\n",
        "- Hobbies.\n",
        "2. El Usuario carga el texto de la búsqueda de empleo a la cual quiere adaptar su CV, tomado desde un portal de empleo u otra fuente en la que se haya publicado. **Get Hired!** analiza el texto de la publicación de empleo y:\n",
        "- Identifica las palabras clave y habilidades más importantes mencionadas en la descripción del puesto.\n",
        "- Identifica requisitos específicos en cuanto a formación.\n",
        "- Identifica logros o resultados específicos deseados en el postulante.\n",
        "\n",
        "A partir del resultado anterior Get Hired! busca y selecciona entre los datos del Usuario aquellos más relevantes para la búsqueda de empleo indicada en 2. entregando un reporte con los siguientes apartados:\n",
        "Análisis de la búsqueda.\n",
        "Sobre mí.\n",
        "Formación.\n",
        "Experiencia.\n",
        "Habilidades.\n",
        "Intereses personales.\n",
        "% de afinidad\n",
        "\n",
        "La descripción de cada apartado es la siguiente:\n",
        "**Análisis de la búsqueda:** Este apartado resume el nombre de la posición a la que refiere la búsqueda, lista las palabras clave, requisitos de formación y los logros requeridos para ese trabajo.\n",
        "Datos personales y de contacto: Este apartado es siempre el mismo independientemente de la búsqueda de empleo ya que son los datos mínimos para identificar y contactar al postulante.\n",
        "\n",
        "**Sobre mi**: Este apartado está compuesto de un párrafo corto donde se destacan los conocimientos y experiencia del postulante más relevantes para el puesto, haciendo un énfasis especial en los logros relacionados con la posición. Este párrafo es esencial y tiene el objetivo de llamar la atención del equipo de selección. (incluir ejemplos en el prompt final como modelo)\n",
        "\n",
        "**Formación:** Este apartado lista en forma ordenada los titulos académicos del postulante relacionados con la búsqueda. Excluye aquellos que no agregan valor para la postulación.\n",
        "\n",
        "**Experiencia:** Este apartado lista en forma ordenada las experiencias en empleos anteriores del postulante relacionadas con la búsqueda. Excluye aquellas que no agregan valor para la postulación.\n",
        "Habilidades: Este apartado recopila habilidades adquiridas por el postulante relacionadas con la búsqueda. Excluye las aquellas que no agregan valor para la postulación.\n",
        "\n",
        "**Intereses personales:** Este apartado retrata en forma más personal al postulante listando gustos y hobbies que destaquen su personalidad fuera del ámbito laboral.\n",
        "\n",
        "**% de afinidad:** En este apartado se evalua la propuesta de CV optimizado para la búsqueda contra el análisis inicial asignando un puntaje de 0 a 100% en función de la finidad del candidato con las palabras clave, formaciòn y logros especìficos requeridos de la posición a cubrir.\n",
        "\n",
        "3. **Get Hired!** crea una imagen de marca personal basada en el resultado anterior para que el CV del postulante destaque frente a los reclutadores.\n",
        "\n",
        "4. El Usuario utiliza el reporte y la imagen de marca personal generados por **Get Hired!** para crear un CV utilizando una plantilla de Canva, Google Docs u otra aplicación que sea de su conveniencia y se postula cargando el CV **a medida** para la posición… y a prepararse para esa entrevista!"
      ],
      "metadata": {
        "id": "u9P982Hyzgm3"
      }
    },
    {
      "cell_type": "markdown",
      "source": [
        "### 4. Herramientas y Tecnologías\n",
        "1. Google Colab + Python + GitHub\n",
        "2. Python\n",
        "3. gemini-1.5-flash"
      ],
      "metadata": {
        "id": "G_pmSNGp0Ib4"
      }
    },
    {
      "cell_type": "markdown",
      "source": [
        "### 5. Implementación"
      ],
      "metadata": {
        "id": "oO6Mxw-70OHY"
      }
    },
    {
      "cell_type": "code",
      "source": [
        "#Install from PyPI.\n",
        "#pip install -U google-generativeai #ya instalado"
      ],
      "metadata": {
        "id": "NRw_ouZouh5G"
      },
      "execution_count": 7,
      "outputs": []
    },
    {
      "cell_type": "code",
      "source": [
        "#Import the SDK and configure your API key.\n",
        "import google.generativeai as genai\n",
        "\n",
        "from google.colab import userdata #Importar Gemini API key desde Google Colab Secrets\n",
        "\n",
        "import os\n",
        "os.environ[\"GEMINI_API_KEY\"] = userdata.get('GEMINI_API_KEY')\n",
        "genai.configure(api_key=os.environ[\"GEMINI_API_KEY\"])"
      ],
      "metadata": {
        "collapsed": true,
        "id": "VFH8ojVPuo9y"
      },
      "execution_count": 8,
      "outputs": []
    },
    {
      "cell_type": "code",
      "source": [
        "#Solicitar al Usuario que cargue su información profesional y la almacena en un diccionario.\n",
        "import re\n",
        "\n",
        "def procesar_texto(texto):\n",
        "\n",
        "    informacion_usuario = {}\n",
        "    categorias = [\"Formación académica:\", \"Experiencia laboral:\", \"Logros:\", \"Habilidades:\", \"Cursos:\", \"Hobbies:\"]\n",
        "\n",
        "    # Dividir el texto en secciones por categoría\n",
        "    secciones = re.split(r\"(\" + \"|\".join(categorias) + r\")\", texto)\n",
        "    secciones = [s.strip() for s in secciones if s.strip()]\n",
        "\n",
        "    # Extraer la información de cada sección\n",
        "    for i in range(0, len(secciones), 2):\n",
        "        categoria = secciones[i][:-1]  # Eliminar el \":\" final\n",
        "        contenido = secciones[i + 1]\n",
        "        informacion_usuario[categoria] = contenido\n",
        "\n",
        "    return informacion_usuario\n",
        "\n",
        "# Obtener la información del usuario\n",
        "texto = input(\"Pega aquí la información de tu carrera profesional considerando las categorías: Formación académica, Experiencia laboral, Logros, Habilidades, Cursos, Hobbies \")\n",
        "\n",
        "# Procesar el texto\n",
        "informacion_usuario = procesar_texto(texto)\n",
        "\n",
        "# Imprimir la información recibida y extraída\n",
        "#print(texto)\n",
        "#print(informacion_usuario)\n",
        "\n",
        "'''\n",
        "Formación académica:\n",
        "Magíster en Ciencia y tecnología de Materiales: Instituto de Tecnología Sabato UNSAM - CNEA (2019)\n",
        "Ingeniero Mecánico: Universidad Nacional del Comahue (2014)\n",
        "Experiencia laboral:\n",
        "Analista de Master Data: YPF S.A. (2022 - Actualidad)\n",
        "Ingeniero Catalogador: Sistemas de Catalogación S.R.L. (2019 - 2022)\n",
        "Ingeniero de análisis de falla/materiales: INVAP Ingeniería S.A. (2014 - 2017)\n",
        "Logros:\n",
        "Contribución significativa a la seguridad operativa y a la eficiencia de los procesos de abastecimiento en el sector energético (Oil&Gas).\n",
        "Habilidades:\n",
        "Metodologías Ágiles\n",
        "SAP MM, MDG, PowerBi, Copilot.\n",
        "Normas ASME, API, ASTM, MSS.\n",
        "Caracterización mecánica de materiales. Integridad estructural.\n",
        "Procesos de la cadena de sumistro: catalogación, almacenes, inspección, proveedores, compras.\n",
        "Cursos:\n",
        "No se mencionan cursos específicos.\n",
        "Hobbies:\n",
        "Buceo recreativo.\n",
        "Natación. Entrenamiento funcional.\n",
        "Aeromodelismo.\n",
        "'''"
      ],
      "metadata": {
        "id": "SvAOu6II416A"
      },
      "execution_count": null,
      "outputs": []
    },
    {
      "cell_type": "code",
      "source": [
        "# Obtener el texto de la oferta laboral\n",
        "texto_oferta = input(\"Pega aquí el texto de la oferta laboral: \")\n",
        "\n",
        "# Almacenar la oferta laboral\n",
        "informacion_oferta = {\"oferta_laboral\": texto_oferta}\n",
        "\n",
        "# Imprimir info\n",
        "#print(\"Oferta laboral:\")\n",
        "#print(informacion_oferta)\n",
        "\n",
        "'''\n",
        "Ingeniero Mecánico Equipos Rotativos\n",
        "Acerca del empleo\n",
        "Técnicas Reunidas Group (TR) es una compañía Internacional de Ingeniería y Construcción lider del sector Oil&Gas, especializada en el diseño, construcción y dirección de ejecución de plantas industriales a nivel mundial. También, participamos en proyectos relacionados con hidrógeno, biomasa, biocombustibles, descarbonización, inteligencia artificial y digitalización.\n",
        "\n",
        "El crecimiento sostenible, la descarbonización y la transición energética, son los conceptos que representan nuestra cultura.\n",
        "Nuestro alto nivel de profesionalismo y compromiso nos impulsa a una investigación permanente para mejorar la eficiencia y la sostenibilidad y siempre con un riguroso cumplimiento de la ley y alineados con los más altos estándares éticos.\n",
        "En Técnicas Reunidas buscamos sumar Ingenieros Mecánicos con experiencia en equipos rotativos para radicarse en España.\n",
        "Sus responsabilidades serán:\n",
        "• El cumplimiento de objetivos en calidad y tiempo.\n",
        "• Fijar criterios de diseño.\n",
        "• Cálculos, estudios, especificaciones técnicas de equipos rotativos.\n",
        "• Requisiciones para petición de ofertas, tabulaciones técnicas y pedidos de equipos rotativos y sus auxiliares.\n",
        "• Informes técnicos de avance. Análisis de fallas\n",
        "• Revisar los planos de suministradores.\n",
        "• Apoyo en obra.\n",
        "• Colaborar en las inspecciones, pruebas y ensayos necesarios, de acuerdo con lo requerido en las especificaciones y códigos aplicables.\n",
        "• Conocer y aplicar toda la documentación y los procedimientos existentes, tanto referentes a los procedimientos propios de su departamento o área de gestión, como los documentos o procedimientos corporativos que sean de aplicación.\n",
        "\n",
        "• Comprobar, si es requerido, los cálculos de los suministradores.\n",
        "Requisitos:\n",
        "\tTitulación en Ingenieria Mecánica\n",
        "\tExperiencia de 10 años en la industrial Oil&Gas\n",
        "\tExperiencia no menor a 8 años en equipos rotativos (Turbinas, sellos, bombas, compresores)\n",
        "\tNivel intermedio de inglés\n",
        "\tDisponibilidad para viajar\n",
        "\tDisponibilidad para radicarse en Madrid - España\n",
        "\tConocimientos informáticos propios de uso en el área de mecánica\n",
        "\tCiudadania de la Comunidad Europea (No excluyente)\n",
        "Ofrecemos:\n",
        "\tContrato indefinido\n",
        "\tDesarrollo Profesional\n",
        "\tAmbiente internacional y multicultural\n",
        "'''"
      ],
      "metadata": {
        "colab": {
          "base_uri": "https://localhost:8080/",
          "height": 198
        },
        "id": "xT6IxW81WO4D",
        "outputId": "e738591d-670b-4c14-d95b-5acbccdf5f2a"
      },
      "execution_count": 25,
      "outputs": [
        {
          "name": "stdout",
          "output_type": "stream",
          "text": [
            "Pega aquí el texto de la oferta laboral: Martillero Público / Abogado  Tigre, Provincia de Buenos Aires, Argentina   cerca del empleo  En RE/MAX Bahía Nordelta estamos en la búsqueda de un/a Martillero Público / Abogado para unirse a nuestro equipo legal.  Responsabilidades principales: · Brindar soporte legal y administrativo al área de Legales. · Revisión, análisis y redacción de contratos comerciales, convenios, cláusulas contractuales y demás documentación inmobiliaria. · Análisis e interpretación de actas, escrituras y documentación notarial. · Investigación y análisis de la legislación vigente. · Elaboración de informes y reportes solicitados por el área. · Asesoramiento y soporte en la interacción con las distintas áreas de la compañía. · Acompañamiento a Agentes a escrituras y firmas  Requisitos: · Graduado/a de la carrera de Martillero Público y/o Abogado Senior · Mínimo 2 años de experiencia en posiciones similares en empresas del sector privado o estudios jurídicos de primera línea. · Excelentes habilidades interpersonales y orientación al cliente interno. · Full time. Lunes a viernes de 9 a 18 hs.  Te ofrecemos: · Excelentes condiciones de contratación · Obra Social Prepaga OSDE · Beneficios · Trabajo en relación de dependencia con contrato a tiempo indeterminado.\n"
          ]
        },
        {
          "output_type": "execute_result",
          "data": {
            "text/plain": [
              "'\\nIngeniero Mecánico Equipos Rotativos\\nAcerca del empleo\\nTécnicas Reunidas Group (TR) es una compañía Internacional de Ingeniería y Construcción lider del sector Oil&Gas, especializada en el diseño, construcción y dirección de ejecución de plantas industriales a nivel mundial. También, participamos en proyectos relacionados con hidrógeno, biomasa, biocombustibles, descarbonización, inteligencia artificial y digitalización.\\n\\nEl crecimiento sostenible, la descarbonización y la transición energética, son los conceptos que representan nuestra cultura.\\nNuestro alto nivel de profesionalismo y compromiso nos impulsa a una investigación permanente para mejorar la eficiencia y la sostenibilidad y siempre con un riguroso cumplimiento de la ley y alineados con los más altos estándares éticos.\\nEn Técnicas Reunidas buscamos sumar Ingenieros Mecánicos con experiencia en equipos rotativos para radicarse en España.\\nSus responsabilidades serán:\\n• El cumplimiento de objetivos en calidad y tiempo.\\n• Fijar criterios de diseño.\\n• Cálculos, estudios, especificaciones técnicas de equipos rotativos.\\n• Requisiciones para petición de ofertas, tabulaciones técnicas y pedidos de equipos rotativos y sus auxiliares.\\n• Informes técnicos de avance. Análisis de fallas\\n• Revisar los planos de suministradores.\\n• Apoyo en obra.\\n• Colaborar en las inspecciones, pruebas y ensayos necesarios, de acuerdo con lo requerido en las especificaciones y códigos aplicables.\\n• Conocer y aplicar toda la documentación y los procedimientos existentes, tanto referentes a los procedimientos propios de su departamento o área de gestión, como los documentos o procedimientos corporativos que sean de aplicación.\\n\\n• Comprobar, si es requerido, los cálculos de los suministradores.\\nRequisitos:\\n\\tTitulación en Ingenieria Mecánica\\n\\tExperiencia de 10 años en la industrial Oil&Gas\\n\\tExperiencia no menor a 8 años en equipos rotativos (Turbinas, sellos, bombas, compresores)\\n\\tNivel intermedio de inglés\\n\\tDisponibilidad para viajar\\n\\tDisponibilidad para radicarse en Madrid - España\\n\\tConocimientos informáticos propios de uso en el área de mecánica\\n\\tCiudadania de la Comunidad Europea (No excluyente)\\nOfrecemos:\\n\\tContrato indefinido\\n\\tDesarrollo Profesional\\n\\tAmbiente internacional y multicultural\\n'"
            ],
            "application/vnd.google.colaboratory.intrinsic+json": {
              "type": "string"
            }
          },
          "metadata": {},
          "execution_count": 25
        }
      ]
    },
    {
      "cell_type": "code",
      "source": [],
      "metadata": {
        "id": "mKHTleHOXNSD"
      },
      "execution_count": null,
      "outputs": []
    },
    {
      "cell_type": "code",
      "source": [
        "# ----> INTEGRACIÓN DEL PROMPT <----\n",
        "\n",
        "# Define el prompt con la información de las variables\n",
        "prompt = f\"\"\"\n",
        "Eres un especialista en selección de personal. Tu misión es ayudar a un postulante a maximizar sus posibilidades de ser seleccionado por un reclutador. Para ello, analiza la siguiente información:\n",
        "\n",
        "**Texto de la búsqueda de empleo:**\n",
        "\n",
        "{informacion_oferta[\"oferta_laboral\"]}\n",
        "\n",
        "**Información del postulante:**\n",
        "\n",
        "Formación académica: {informacion_usuario.get(\"Formación académica\", \"\")}\n",
        "Experiencia laboral: {informacion_usuario.get(\"Experiencia laboral\", \"\")}\n",
        "Logros: {informacion_usuario.get(\"Logros\", \"\")}\n",
        "Habilidades: {informacion_usuario.get(\"Habilidades\", \"\")}\n",
        "Cursos: {informacion_usuario.get(\"Cursos\", \"\")}\n",
        "Hobbies: {informacion_usuario.get(\"Hobbies\", \"\")}\n",
        "\n",
        "Realiza lo siguiente:\n",
        "\n",
        "1. **Analiza la búsqueda de empleo:**\n",
        "    * Identifica el nombre de la posición buscada.\n",
        "    * Extrae las palabras clave y habilidades más importantes mencionadas.\n",
        "    * Determina los requisitos específicos en cuanto a formación académica.\n",
        "    * Identifica los logros o resultados específicos que se buscan en el postulante.\n",
        "\n",
        "2. **Analiza la información del postulante:**\n",
        "    * Selecciona y lista únicamente la información relevante para la búsqueda en función del análisis realizado en el paso anterior, organizándola en los siguientes apartados:\n",
        "        * Formación académica\n",
        "        * Experiencia laboral\n",
        "        * Logros\n",
        "        * Habilidades\n",
        "        * Cursos\n",
        "        * Hobbies\n",
        "\n",
        "3. **Genera un reporte con la siguiente estructura:**\n",
        "\n",
        "    * **Análisis de la búsqueda:**\n",
        "        * Nombre del puesto: [Nombre del puesto]\n",
        "        * Palabras clave: [Lista de palabras clave]\n",
        "        * Habilidades: [Lista de habilidades]\n",
        "        * Requisitos de formación: [Requisitos de formación]\n",
        "        * Logros deseados: [Logros deseados]\n",
        "\n",
        "    * **Datos personales y de contacto:**\n",
        "        * [Nombre del postulante]\n",
        "        * [Correo electrónico del postulante]\n",
        "        * [Teléfono del postulante (opcional)]\n",
        "        * [LinkedIn del postulante (opcional)]\n",
        "\n",
        "    * **Sobre mí:**\n",
        "        * [Un breve resumen del postulante y sus objetivos profesionales, destacando su alineación con la posición buscada]\n",
        "\n",
        "    * **Formación:**\n",
        "        * [Información relevante sobre la formación académica del postulante]\n",
        "\n",
        "    * **Experiencia:**\n",
        "        * [Información relevante sobre la experiencia laboral del postulante]\n",
        "\n",
        "    * **Habilidades:**\n",
        "        * [Lista de habilidades relevantes del postulante]\n",
        "\n",
        "    * **Intereses personales:**\n",
        "        * [Hobbies e intereses relevantes del postulante que puedan ser de interés para el reclutador]\n",
        "\n",
        "    * **% de afinidad:**\n",
        "        * [Un porcentaje que indique la afinidad entre el perfil del postulante y los requisitos del puesto, basado en tu análisis]\n",
        "\n",
        "**Ejemplo:**\n",
        "\n",
        "Si la oferta de trabajo busca un \"Ingeniero de Software con experiencia en Python y desarrollo web\", el reporte debería destacar la experiencia del postulante en Python y desarrollo web, así como cualquier proyecto o logro relacionado.\n",
        "\n",
        "**Recuerda:**\n",
        "\n",
        "* El objetivo es presentar la información del postulante de la manera más relevante y atractiva para el reclutador, destacando las coincidencias con la oferta de trabajo.\n",
        "* El porcentaje de afinidad debe ser una estimación basada en tu análisis, no un cálculo exacto.\n",
        "* Asegúrate de que el reporte sea claro, conciso y fácil de leer.\n",
        "\"\"\"\n",
        "\n",
        "# Crea el modelo\n",
        "model = genai.GenerativeModel('gemini-1.5-flash')\n",
        "\n",
        "# Genera la respuesta\n",
        "response = model.generate_content(prompt)\n",
        "\n",
        "# Imprime la respuesta\n",
        "print(response.text)"
      ],
      "metadata": {
        "colab": {
          "base_uri": "https://localhost:8080/",
          "height": 1000
        },
        "id": "UgACvPuXvn0J",
        "outputId": "87d9b62d-77e7-4022-ddd3-e98034f54e5e"
      },
      "execution_count": 26,
      "outputs": [
        {
          "output_type": "stream",
          "name": "stdout",
          "text": [
            "## Reporte de análisis para postulante a Martillero Público / Abogado\n",
            "\n",
            "**Análisis de la búsqueda:**\n",
            "\n",
            "* **Nombre del puesto:** Martillero Público / Abogado\n",
            "* **Palabras clave:** soporte legal, administrativo, contratos comerciales, convenios, cláusulas contractuales, documentación inmobiliaria, análisis de actas, escrituras, documentación notarial, legislación vigente, informes, reportes, asesoramiento, interacción, áreas de la compañía, acompañamiento a Agentes, escrituras, firmas.\n",
            "* **Habilidades:**  excelentes habilidades interpersonales, orientación al cliente interno.\n",
            "* **Requisitos de formación:** Graduado/a de la carrera de Martillero Público y/o Abogado Senior, mínimo 2 años de experiencia en posiciones similares en empresas del sector privado o estudios jurídicos de primera línea.\n",
            "* **Logros deseados:** No se especifican logros deseados en la descripción del puesto. Sin embargo, se busca experiencia en posiciones similares, lo que sugiere que se valorarán logros relacionados con el soporte legal y administrativo en el sector inmobiliario.\n",
            "\n",
            "\n",
            "**Datos personales y de contacto:**\n",
            "\n",
            "* [Nombre del postulante]\n",
            "* [Correo electrónico del postulante]\n",
            "* [Teléfono del postulante (opcional)]\n",
            "* [LinkedIn del postulante (opcional)]\n",
            "\n",
            "**Sobre mí:** \n",
            "\n",
            "Soy un profesional con una sólida formación en ingeniería mecánica y una amplia experiencia en el sector industrial,  desarrollando habilidades de análisis, investigación y gestión de procesos. Busco aplicar mi experiencia y mis habilidades en un nuevo desafío profesional dentro del ámbito legal, aportando mi capacidad de análisis y mi enfoque estratégico. \n",
            "\n",
            "**Formación:**\n",
            "\n",
            "* Magíster en Ciencia y Tecnología de Materiales: Instituto de Tecnología Sabato UNSAM - CNEA (2019)\n",
            "* Ingeniero Mecánico: Universidad Nacional del Comahue (2014)\n",
            "\n",
            "**Experiencia:**\n",
            "\n",
            "* **Analista de Master Data:** YPF S.A. (2022 - Actualidad)\n",
            "* **Ingeniero Catalogador:** Sistemas de Catalogación S.R.L. (2019 - 2022)\n",
            "* **Ingeniero de análisis de falla/materiales:** INVAP Ingeniería S.A. (2014 - 2017)\n",
            "\n",
            "**Habilidades:**\n",
            "\n",
            "* Metodologías Ágiles\n",
            "* SAP MM, MDG, PowerBi, Copilot\n",
            "* Normas ASME, API, ASTM, MSS\n",
            "* Caracterización mecánica de materiales\n",
            "* Integridad estructural\n",
            "* Procesos de la cadena de suministro: catalogación, almacenes, inspección, proveedores, compras\n",
            "\n",
            "**Intereses personales:**\n",
            "\n",
            "* Buceo recreativo\n",
            "* Natación\n",
            "* Entrenamiento funcional\n",
            "* Aeromodelismo\n",
            "\n",
            "**% de afinidad:** 20%\n",
            "\n",
            "**Justificación:**\n",
            "\n",
            "Si bien la formación académica y la experiencia del postulante son relevantes para el sector industrial, no se alinean con los requisitos de la posición de Martillero Público/Abogado. La experiencia laboral del postulante en áreas como análisis de fallas, gestión de materiales y procesos de cadena de suministro no son directamente transferibles al ámbito legal. Sin embargo,  el postulante podría destacar su capacidad de análisis, su atención al detalle y su capacidad de trabajo en equipo como habilidades transferibles a la posición.\n",
            "\n",
            "\n",
            "**Recomendaciones:**\n",
            "\n",
            "* **Enfatizar las habilidades de análisis, investigación y gestión de procesos** como habilidades transferibles al ámbito legal.\n",
            "* **Resaltar las experiencias de trabajo en equipo y de atención al cliente** en sus roles anteriores,  demostrando su capacidad de trabajar en colaboración y su orientación a las necesidades del cliente.\n",
            "* **Adaptar el currículum y la carta de presentación a las necesidades del puesto:**  enfocar su experiencia en habilidades relevantes para el trabajo legal,  como la capacidad de análisis, la interpretación de documentos y la investigación.\n",
            "* **Considerar realizar cursos o capacitaciones en derecho inmobiliario o legal** para fortalecer su perfil y aumentar su competitividad en la búsqueda del puesto.\n",
            "\n",
            "Es importante recordar que aunque el postulante no cumple con los requisitos de formación específicos, su experiencia y habilidades podrían ser valiosas para la empresa. Con un enfoque estratégico y una presentación efectiva, podría aumentar sus posibilidades de ser considerado para la posición.\n",
            "\n"
          ]
        }
      ]
    },
    {
      "cell_type": "markdown",
      "source": [
        "### 6. Resultados"
      ],
      "metadata": {
        "id": "qdYAwC1v0SNH"
      }
    },
    {
      "cell_type": "code",
      "source": [],
      "metadata": {
        "id": "_zzXwnwYzji8"
      },
      "execution_count": null,
      "outputs": []
    }
  ]
}